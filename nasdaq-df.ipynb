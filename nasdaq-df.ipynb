{
 "cells": [
  {
   "cell_type": "markdown",
   "metadata": {
    "papermill": {
     "duration": 0.030258,
     "end_time": "2021-03-22T16:59:25.542707",
     "exception": false,
     "start_time": "2021-03-22T16:59:25.512449",
     "status": "completed"
    },
    "tags": []
   },
   "source": [
    "<h1 style=\"text-align: center\" >Stock Prediction Using Logistic Regression</h1>"
   ]
  },
  {
   "cell_type": "markdown",
   "metadata": {},
   "source": [
    "## Import Libraries"
   ]
  },
  {
   "cell_type": "code",
   "execution_count": 1,
   "metadata": {
    "_cell_guid": "b1076dfc-b9ad-4769-8c92-a6c4dae69d19",
    "_uuid": "8f2839f25d086af736a60e9eeb907d3b93b6e0e5",
    "papermill": {
     "duration": 1.628352,
     "end_time": "2021-03-22T16:59:27.264171",
     "exception": false,
     "start_time": "2021-03-22T16:59:25.635819",
     "status": "completed"
    },
    "tags": []
   },
   "outputs": [],
   "source": [
    "import os\n",
    "import pandas as pd\n",
    "from tqdm.notebook import tqdm\n",
    "from sklearn.model_selection import train_test_split, cross_val_score\n",
    "from sklearn.preprocessing import LabelEncoder\n",
    "from sklearn.metrics import accuracy_score, classification_report, confusion_matrix"
   ]
  },
  {
   "cell_type": "markdown",
   "metadata": {},
   "source": [
    "## Load Data"
   ]
  },
  {
   "cell_type": "code",
   "execution_count": 2,
   "metadata": {
    "papermill": {
     "duration": 0.094249,
     "end_time": "2021-03-22T16:59:27.391556",
     "exception": false,
     "start_time": "2021-03-22T16:59:27.297307",
     "status": "completed"
    },
    "tags": []
   },
   "outputs": [],
   "source": [
    "def load_data(directory):\n",
    "    stock_data = []\n",
    "\n",
    "    files = [f for f in os.listdir(directory) if f.endswith(\".csv\")]\n",
    "\n",
    "    for filename in tqdm(files, desc=\"Loading data\"):\n",
    "        file_path = os.path.join(directory, filename)\n",
    "        if os.stat(file_path).st_size != 0:\n",
    "            symbol = filename.split(\".\")[0]\n",
    "            stock_df = pd.read_csv(\n",
    "                file_path,\n",
    "                parse_dates=[\"Date\"],\n",
    "                dayfirst=True,\n",
    "                on_bad_lines=\"skip\",\n",
    "            )\n",
    "            stock_df.set_index(\"Date\", inplace=True)\n",
    "            stock_df[\"Symbol\"] = symbol\n",
    "            stock_data.append(stock_df)\n",
    "\n",
    "    combined_df = pd.concat(stock_data)\n",
    "    return combined_df"
   ]
  },
  {
   "cell_type": "code",
   "execution_count": 3,
   "metadata": {},
   "outputs": [
    {
     "data": {
      "application/vnd.jupyter.widget-view+json": {
       "model_id": "d5c245ac8e0a48658ef5d293be61b89c",
       "version_major": 2,
       "version_minor": 0
      },
      "text/plain": [
       "Loading data:   0%|          | 0/1564 [00:00<?, ?it/s]"
      ]
     },
     "metadata": {},
     "output_type": "display_data"
    }
   ],
   "source": [
    "data = load_data(\"nasdaq/\")"
   ]
  },
  {
   "cell_type": "markdown",
   "metadata": {},
   "source": [
    "## Preprocess Data"
   ]
  },
  {
   "cell_type": "code",
   "execution_count": 4,
   "metadata": {
    "papermill": {
     "duration": 0.055285,
     "end_time": "2021-03-22T16:59:27.478963",
     "exception": false,
     "start_time": "2021-03-22T16:59:27.423678",
     "status": "completed"
    },
    "tags": []
   },
   "outputs": [],
   "source": [
    "def preprocess_data(data, days_ahead=30):\n",
    "    data[\"Label\"] = data[\"Close\"].shift(-days_ahead) > data[\"Close\"]\n",
    "    data[\"Label\"] = data[\"Label\"].astype(int)\n",
    "    data[\"30_day_moving_average\"] = data[\"Close\"].rolling(window=30).mean()\n",
    "    \n",
    "    data.dropna(inplace=True)\n",
    "    return data"
   ]
  },
  {
   "cell_type": "code",
   "execution_count": 5,
   "metadata": {},
   "outputs": [],
   "source": [
    "data = preprocess_data(data)"
   ]
  },
  {
   "cell_type": "code",
   "execution_count": 6,
   "metadata": {},
   "outputs": [],
   "source": [
    "le = LabelEncoder()\n",
    "data[\"Symbol\"] = le.fit_transform(data[\"Symbol\"])"
   ]
  },
  {
   "cell_type": "code",
   "execution_count": 7,
   "metadata": {},
   "outputs": [
    {
     "data": {
      "text/html": [
       "<div>\n",
       "<style scoped>\n",
       "    .dataframe tbody tr th:only-of-type {\n",
       "        vertical-align: middle;\n",
       "    }\n",
       "\n",
       "    .dataframe tbody tr th {\n",
       "        vertical-align: top;\n",
       "    }\n",
       "\n",
       "    .dataframe thead th {\n",
       "        text-align: right;\n",
       "    }\n",
       "</style>\n",
       "<table border=\"1\" class=\"dataframe\">\n",
       "  <thead>\n",
       "    <tr style=\"text-align: right;\">\n",
       "      <th></th>\n",
       "      <th>Low</th>\n",
       "      <th>Open</th>\n",
       "      <th>Volume</th>\n",
       "      <th>High</th>\n",
       "      <th>Close</th>\n",
       "      <th>Adjusted Close</th>\n",
       "      <th>Symbol</th>\n",
       "      <th>Label</th>\n",
       "      <th>30_day_moving_average</th>\n",
       "    </tr>\n",
       "    <tr>\n",
       "      <th>Date</th>\n",
       "      <th></th>\n",
       "      <th></th>\n",
       "      <th></th>\n",
       "      <th></th>\n",
       "      <th></th>\n",
       "      <th></th>\n",
       "      <th></th>\n",
       "      <th></th>\n",
       "      <th></th>\n",
       "    </tr>\n",
       "  </thead>\n",
       "  <tbody>\n",
       "    <tr>\n",
       "      <th>2005-11-07 00:00:00</th>\n",
       "      <td>28.379999</td>\n",
       "      <td>29.000000</td>\n",
       "      <td>486900.0</td>\n",
       "      <td>29.430000</td>\n",
       "      <td>28.930000</td>\n",
       "      <td>27.273512</td>\n",
       "      <td>0</td>\n",
       "      <td>1</td>\n",
       "      <td>22.847000</td>\n",
       "    </tr>\n",
       "    <tr>\n",
       "      <th>2005-11-08 00:00:00</th>\n",
       "      <td>29.000000</td>\n",
       "      <td>29.100000</td>\n",
       "      <td>1395000.0</td>\n",
       "      <td>29.700001</td>\n",
       "      <td>29.430000</td>\n",
       "      <td>27.744884</td>\n",
       "      <td>0</td>\n",
       "      <td>1</td>\n",
       "      <td>23.184667</td>\n",
       "    </tr>\n",
       "    <tr>\n",
       "      <th>2005-11-09 00:00:00</th>\n",
       "      <td>29.430000</td>\n",
       "      <td>29.430000</td>\n",
       "      <td>1312300.0</td>\n",
       "      <td>31.299999</td>\n",
       "      <td>31.299999</td>\n",
       "      <td>29.507811</td>\n",
       "      <td>0</td>\n",
       "      <td>1</td>\n",
       "      <td>23.544666</td>\n",
       "    </tr>\n",
       "    <tr>\n",
       "      <th>2005-11-10 00:00:00</th>\n",
       "      <td>31.150000</td>\n",
       "      <td>31.150000</td>\n",
       "      <td>1948900.0</td>\n",
       "      <td>33.959999</td>\n",
       "      <td>32.799999</td>\n",
       "      <td>30.921915</td>\n",
       "      <td>0</td>\n",
       "      <td>1</td>\n",
       "      <td>23.964333</td>\n",
       "    </tr>\n",
       "    <tr>\n",
       "      <th>2005-11-11 00:00:00</th>\n",
       "      <td>33.000000</td>\n",
       "      <td>33.049999</td>\n",
       "      <td>1183900.0</td>\n",
       "      <td>33.950001</td>\n",
       "      <td>33.349998</td>\n",
       "      <td>31.440432</td>\n",
       "      <td>0</td>\n",
       "      <td>1</td>\n",
       "      <td>24.375666</td>\n",
       "    </tr>\n",
       "  </tbody>\n",
       "</table>\n",
       "</div>"
      ],
      "text/plain": [
       "                           Low       Open     Volume       High      Close  \\\n",
       "Date                                                                         \n",
       "2005-11-07 00:00:00  28.379999  29.000000   486900.0  29.430000  28.930000   \n",
       "2005-11-08 00:00:00  29.000000  29.100000  1395000.0  29.700001  29.430000   \n",
       "2005-11-09 00:00:00  29.430000  29.430000  1312300.0  31.299999  31.299999   \n",
       "2005-11-10 00:00:00  31.150000  31.150000  1948900.0  33.959999  32.799999   \n",
       "2005-11-11 00:00:00  33.000000  33.049999  1183900.0  33.950001  33.349998   \n",
       "\n",
       "                     Adjusted Close  Symbol  Label  30_day_moving_average  \n",
       "Date                                                                       \n",
       "2005-11-07 00:00:00       27.273512       0      1              22.847000  \n",
       "2005-11-08 00:00:00       27.744884       0      1              23.184667  \n",
       "2005-11-09 00:00:00       29.507811       0      1              23.544666  \n",
       "2005-11-10 00:00:00       30.921915       0      1              23.964333  \n",
       "2005-11-11 00:00:00       31.440432       0      1              24.375666  "
      ]
     },
     "execution_count": 7,
     "metadata": {},
     "output_type": "execute_result"
    }
   ],
   "source": [
    "data.head()"
   ]
  },
  {
   "cell_type": "code",
   "execution_count": 8,
   "metadata": {},
   "outputs": [
    {
     "data": {
      "text/html": [
       "<div>\n",
       "<style scoped>\n",
       "    .dataframe tbody tr th:only-of-type {\n",
       "        vertical-align: middle;\n",
       "    }\n",
       "\n",
       "    .dataframe tbody tr th {\n",
       "        vertical-align: top;\n",
       "    }\n",
       "\n",
       "    .dataframe thead th {\n",
       "        text-align: right;\n",
       "    }\n",
       "</style>\n",
       "<table border=\"1\" class=\"dataframe\">\n",
       "  <thead>\n",
       "    <tr style=\"text-align: right;\">\n",
       "      <th></th>\n",
       "      <th>Low</th>\n",
       "      <th>Open</th>\n",
       "      <th>Volume</th>\n",
       "      <th>High</th>\n",
       "      <th>Close</th>\n",
       "      <th>Adjusted Close</th>\n",
       "      <th>Symbol</th>\n",
       "      <th>Label</th>\n",
       "      <th>30_day_moving_average</th>\n",
       "    </tr>\n",
       "    <tr>\n",
       "      <th>Date</th>\n",
       "      <th></th>\n",
       "      <th></th>\n",
       "      <th></th>\n",
       "      <th></th>\n",
       "      <th></th>\n",
       "      <th></th>\n",
       "      <th></th>\n",
       "      <th></th>\n",
       "      <th></th>\n",
       "    </tr>\n",
       "  </thead>\n",
       "  <tbody>\n",
       "    <tr>\n",
       "      <th>2022-12-06 00:00:00</th>\n",
       "      <td>22.100000</td>\n",
       "      <td>22.660000</td>\n",
       "      <td>515300.0</td>\n",
       "      <td>23.049999</td>\n",
       "      <td>22.520000</td>\n",
       "      <td>22.520000</td>\n",
       "      <td>1562</td>\n",
       "      <td>0</td>\n",
       "      <td>22.981000</td>\n",
       "    </tr>\n",
       "    <tr>\n",
       "      <th>2022-12-07 00:00:00</th>\n",
       "      <td>22.059999</td>\n",
       "      <td>22.379999</td>\n",
       "      <td>494000.0</td>\n",
       "      <td>23.180000</td>\n",
       "      <td>22.990000</td>\n",
       "      <td>22.990000</td>\n",
       "      <td>1562</td>\n",
       "      <td>0</td>\n",
       "      <td>22.995000</td>\n",
       "    </tr>\n",
       "    <tr>\n",
       "      <th>2022-12-08 00:00:00</th>\n",
       "      <td>22.690001</td>\n",
       "      <td>23.020000</td>\n",
       "      <td>370400.0</td>\n",
       "      <td>23.549999</td>\n",
       "      <td>23.510000</td>\n",
       "      <td>23.510000</td>\n",
       "      <td>1562</td>\n",
       "      <td>0</td>\n",
       "      <td>23.026667</td>\n",
       "    </tr>\n",
       "    <tr>\n",
       "      <th>2022-12-09 00:00:00</th>\n",
       "      <td>22.120001</td>\n",
       "      <td>23.090000</td>\n",
       "      <td>427400.0</td>\n",
       "      <td>23.090000</td>\n",
       "      <td>22.700001</td>\n",
       "      <td>22.700001</td>\n",
       "      <td>1562</td>\n",
       "      <td>0</td>\n",
       "      <td>23.044333</td>\n",
       "    </tr>\n",
       "    <tr>\n",
       "      <th>2022-12-12 00:00:00</th>\n",
       "      <td>22.290001</td>\n",
       "      <td>22.740000</td>\n",
       "      <td>48442.0</td>\n",
       "      <td>22.740000</td>\n",
       "      <td>22.645000</td>\n",
       "      <td>22.645000</td>\n",
       "      <td>1562</td>\n",
       "      <td>0</td>\n",
       "      <td>23.043833</td>\n",
       "    </tr>\n",
       "  </tbody>\n",
       "</table>\n",
       "</div>"
      ],
      "text/plain": [
       "                           Low       Open    Volume       High      Close  \\\n",
       "Date                                                                        \n",
       "2022-12-06 00:00:00  22.100000  22.660000  515300.0  23.049999  22.520000   \n",
       "2022-12-07 00:00:00  22.059999  22.379999  494000.0  23.180000  22.990000   \n",
       "2022-12-08 00:00:00  22.690001  23.020000  370400.0  23.549999  23.510000   \n",
       "2022-12-09 00:00:00  22.120001  23.090000  427400.0  23.090000  22.700001   \n",
       "2022-12-12 00:00:00  22.290001  22.740000   48442.0  22.740000  22.645000   \n",
       "\n",
       "                     Adjusted Close  Symbol  Label  30_day_moving_average  \n",
       "Date                                                                       \n",
       "2022-12-06 00:00:00       22.520000    1562      0              22.981000  \n",
       "2022-12-07 00:00:00       22.990000    1562      0              22.995000  \n",
       "2022-12-08 00:00:00       23.510000    1562      0              23.026667  \n",
       "2022-12-09 00:00:00       22.700001    1562      0              23.044333  \n",
       "2022-12-12 00:00:00       22.645000    1562      0              23.043833  "
      ]
     },
     "execution_count": 8,
     "metadata": {},
     "output_type": "execute_result"
    }
   ],
   "source": [
    "data.tail()"
   ]
  },
  {
   "cell_type": "markdown",
   "metadata": {},
   "source": [
    "## Train and Test Models"
   ]
  },
  {
   "cell_type": "code",
   "execution_count": 9,
   "metadata": {
    "papermill": {
     "duration": 0.491383,
     "end_time": "2021-03-22T16:59:28.146260",
     "exception": false,
     "start_time": "2021-03-22T16:59:27.654877",
     "status": "completed"
    },
    "tags": []
   },
   "outputs": [],
   "source": [
    "X = data.drop(columns=\"Label\")\n",
    "y = data[\"Label\"]"
   ]
  },
  {
   "cell_type": "code",
   "execution_count": 10,
   "metadata": {},
   "outputs": [],
   "source": [
    "X_train, X_test, y_train, y_test = train_test_split(X, y, test_size=0.2)"
   ]
  },
  {
   "cell_type": "markdown",
   "metadata": {
    "tags": []
   },
   "source": [
    "### Logistic Regression"
   ]
  },
  {
   "cell_type": "code",
   "execution_count": 11,
   "metadata": {},
   "outputs": [],
   "source": [
    "from sklearn.linear_model import LogisticRegression"
   ]
  },
  {
   "cell_type": "markdown",
   "metadata": {},
   "source": [
    "#### Training"
   ]
  },
  {
   "cell_type": "code",
   "execution_count": 12,
   "metadata": {
    "papermill": {
     "duration": 0.04566,
     "end_time": "2021-03-22T16:59:27.557309",
     "exception": false,
     "start_time": "2021-03-22T16:59:27.511649",
     "status": "completed"
    },
    "tags": []
   },
   "outputs": [],
   "source": [
    "lr = LogisticRegression(max_iter=1000)\n",
    "scores = cross_val_score(lr, X_train, y_train, scoring=\"accuracy\", cv=5)"
   ]
  },
  {
   "cell_type": "code",
   "execution_count": 13,
   "metadata": {},
   "outputs": [
    {
     "name": "stdout",
     "output_type": "stream",
     "text": [
      "Cross-validation scores: [0.52241795 0.5226437  0.52353722 0.52364281 0.52301011]\n",
      "Average Train Accuracy: 0.5230503587080625\n"
     ]
    }
   ],
   "source": [
    "print(\"Cross-validation scores:\", scores)\n",
    "print(\"Average Train Accuracy:\", scores.mean())"
   ]
  },
  {
   "cell_type": "markdown",
   "metadata": {},
   "source": [
    "#### Testing"
   ]
  },
  {
   "cell_type": "code",
   "execution_count": 14,
   "metadata": {},
   "outputs": [],
   "source": [
    "lr.fit(X_train, y_train)\n",
    "y_pred = lr.predict(X_test)"
   ]
  },
  {
   "cell_type": "code",
   "execution_count": 15,
   "metadata": {},
   "outputs": [
    {
     "name": "stdout",
     "output_type": "stream",
     "text": [
      "Accuracy: 0.5229886132369805\n"
     ]
    }
   ],
   "source": [
    "print(\"Accuracy:\", accuracy_score(y_test, y_pred))"
   ]
  },
  {
   "cell_type": "markdown",
   "metadata": {},
   "source": [
    "### Random Forest Classifier"
   ]
  },
  {
   "cell_type": "code",
   "execution_count": 16,
   "metadata": {},
   "outputs": [],
   "source": [
    "from sklearn.ensemble import RandomForestClassifier"
   ]
  },
  {
   "cell_type": "code",
   "execution_count": 17,
   "metadata": {
    "papermill": {
     "duration": 0.04566,
     "end_time": "2021-03-22T16:59:27.557309",
     "exception": false,
     "start_time": "2021-03-22T16:59:27.511649",
     "status": "completed"
    },
    "tags": []
   },
   "outputs": [],
   "source": [
    "rf = RandomForestClassifier(n_estimators=75, max_depth=5)\n",
    "scores = cross_val_score(rf, X_train, y_train, scoring=\"accuracy\", cv=5)"
   ]
  },
  {
   "cell_type": "code",
   "execution_count": 18,
   "metadata": {},
   "outputs": [
    {
     "name": "stdout",
     "output_type": "stream",
     "text": [
      "Cross-validation scores: [0.53075404 0.52893705 0.53010819 0.52964611 0.52996027]\n",
      "Average Train Accuracy: 0.5298811335632346\n"
     ]
    }
   ],
   "source": [
    "print(\"Cross-validation scores:\", scores)\n",
    "print(\"Average Train Accuracy:\", scores.mean())"
   ]
  },
  {
   "cell_type": "code",
   "execution_count": 19,
   "metadata": {},
   "outputs": [],
   "source": [
    "rf.fit(X_train, y_train)\n",
    "y_pred = rf.predict(X_test)"
   ]
  },
  {
   "cell_type": "code",
   "execution_count": 20,
   "metadata": {},
   "outputs": [
    {
     "name": "stdout",
     "output_type": "stream",
     "text": [
      "Accuracy: 0.5299029652809518\n"
     ]
    }
   ],
   "source": [
    "print(\"Accuracy:\", accuracy_score(y_test, y_pred))"
   ]
  }
 ],
 "metadata": {
  "kernelspec": {
   "display_name": "Python 3 (ipykernel)",
   "language": "python",
   "name": "python3"
  },
  "language_info": {
   "codemirror_mode": {
    "name": "ipython",
    "version": 3
   },
   "file_extension": ".py",
   "mimetype": "text/x-python",
   "name": "python",
   "nbconvert_exporter": "python",
   "pygments_lexer": "ipython3",
   "version": "3.10.10"
  },
  "papermill": {
   "default_parameters": {},
   "duration": 14.315211,
   "end_time": "2021-03-22T16:59:33.498906",
   "environment_variables": {},
   "exception": null,
   "input_path": "__notebook__.ipynb",
   "output_path": "__notebook__.ipynb",
   "parameters": {},
   "start_time": "2021-03-22T16:59:19.183695",
   "version": "2.2.2"
  }
 },
 "nbformat": 4,
 "nbformat_minor": 4
}
