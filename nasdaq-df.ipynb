{
 "cells": [
  {
   "cell_type": "markdown",
   "metadata": {
    "papermill": {
     "duration": 0.030258,
     "end_time": "2021-03-22T16:59:25.542707",
     "exception": false,
     "start_time": "2021-03-22T16:59:25.512449",
     "status": "completed"
    },
    "tags": []
   },
   "source": [
    "<h1 style=\"text-align: center\" >Stock Prediction Using Logistic Regression</h1>"
   ]
  },
  {
   "cell_type": "markdown",
   "metadata": {},
   "source": [
    "## Import Libraries"
   ]
  },
  {
   "cell_type": "code",
   "execution_count": 1,
   "metadata": {
    "_cell_guid": "b1076dfc-b9ad-4769-8c92-a6c4dae69d19",
    "_uuid": "8f2839f25d086af736a60e9eeb907d3b93b6e0e5",
    "papermill": {
     "duration": 1.628352,
     "end_time": "2021-03-22T16:59:27.264171",
     "exception": false,
     "start_time": "2021-03-22T16:59:25.635819",
     "status": "completed"
    },
    "tags": []
   },
   "outputs": [],
   "source": [
    "import os\n",
    "import pandas as pd\n",
    "from tqdm.notebook import tqdm\n",
    "from sklearn.model_selection import train_test_split, cross_val_score\n",
    "from sklearn.preprocessing import LabelEncoder\n",
    "from sklearn.metrics import accuracy_score, classification_report, confusion_matrix"
   ]
  },
  {
   "cell_type": "markdown",
   "metadata": {},
   "source": [
    "## Load Data"
   ]
  },
  {
   "cell_type": "code",
   "execution_count": 2,
   "metadata": {
    "papermill": {
     "duration": 0.094249,
     "end_time": "2021-03-22T16:59:27.391556",
     "exception": false,
     "start_time": "2021-03-22T16:59:27.297307",
     "status": "completed"
    },
    "tags": []
   },
   "outputs": [],
   "source": [
    "def load_data(directory):\n",
    "    stock_data = []\n",
    "\n",
    "    files = [f for f in os.listdir(directory) if f.endswith(\".csv\")]\n",
    "\n",
    "    for filename in tqdm(files, desc=\"Loading data\"):\n",
    "        file_path = os.path.join(directory, filename)\n",
    "        if os.stat(file_path).st_size != 0:\n",
    "            symbol = filename.split(\".\")[0]\n",
    "            stock_df = pd.read_csv(\n",
    "                file_path,\n",
    "                parse_dates=[\"Date\"],\n",
    "                dayfirst=True,\n",
    "                on_bad_lines=\"skip\",\n",
    "            )\n",
    "            stock_df.set_index(\"Date\", inplace=True)\n",
    "            stock_df[\"Symbol\"] = symbol\n",
    "            stock_data.append(stock_df)\n",
    "\n",
    "    combined_df = pd.concat(stock_data)\n",
    "    return combined_df"
   ]
  },
  {
   "cell_type": "code",
   "execution_count": 3,
   "metadata": {},
   "outputs": [
    {
     "data": {
      "application/vnd.jupyter.widget-view+json": {
       "model_id": "7c52bcb9294a4635a858921292b69d01",
       "version_major": 2,
       "version_minor": 0
      },
      "text/plain": [
       "Loading data:   0%|          | 0/1564 [00:00<?, ?it/s]"
      ]
     },
     "metadata": {},
     "output_type": "display_data"
    }
   ],
   "source": [
    "data = load_data(\"nasdaq/\")"
   ]
  },
  {
   "cell_type": "markdown",
   "metadata": {},
   "source": [
    "## Preprocess Data"
   ]
  },
  {
   "cell_type": "code",
   "execution_count": 4,
   "metadata": {
    "papermill": {
     "duration": 0.055285,
     "end_time": "2021-03-22T16:59:27.478963",
     "exception": false,
     "start_time": "2021-03-22T16:59:27.423678",
     "status": "completed"
    },
    "tags": []
   },
   "outputs": [],
   "source": [
    "def preprocess_data(data, days_ahead=30):\n",
    "    data[\"Label\"] = data[\"Close\"].shift(-days_ahead) > data[\"Close\"]\n",
    "    data[\"Label\"] = data[\"Label\"].astype(int)\n",
    "    data[\"30_day_moving_average\"] = data[\"Close\"].rolling(window=30).mean()\n",
    "    \n",
    "    data.dropna(inplace=True)\n",
    "    return data"
   ]
  },
  {
   "cell_type": "code",
   "execution_count": 5,
   "metadata": {},
   "outputs": [],
   "source": [
    "data = preprocess_data(data)"
   ]
  },
  {
   "cell_type": "code",
   "execution_count": 6,
   "metadata": {},
   "outputs": [],
   "source": [
    "le = LabelEncoder()\n",
    "data[\"Symbol\"] = le.fit_transform(data[\"Symbol\"])"
   ]
  },
  {
   "cell_type": "code",
   "execution_count": 7,
   "metadata": {},
   "outputs": [
    {
     "data": {
      "text/html": [
       "<div>\n",
       "<style scoped>\n",
       "    .dataframe tbody tr th:only-of-type {\n",
       "        vertical-align: middle;\n",
       "    }\n",
       "\n",
       "    .dataframe tbody tr th {\n",
       "        vertical-align: top;\n",
       "    }\n",
       "\n",
       "    .dataframe thead th {\n",
       "        text-align: right;\n",
       "    }\n",
       "</style>\n",
       "<table border=\"1\" class=\"dataframe\">\n",
       "  <thead>\n",
       "    <tr style=\"text-align: right;\">\n",
       "      <th></th>\n",
       "      <th>Low</th>\n",
       "      <th>Open</th>\n",
       "      <th>Volume</th>\n",
       "      <th>High</th>\n",
       "      <th>Close</th>\n",
       "      <th>Adjusted Close</th>\n",
       "      <th>Symbol</th>\n",
       "      <th>Label</th>\n",
       "      <th>30_day_moving_average</th>\n",
       "    </tr>\n",
       "    <tr>\n",
       "      <th>Date</th>\n",
       "      <th></th>\n",
       "      <th></th>\n",
       "      <th></th>\n",
       "      <th></th>\n",
       "      <th></th>\n",
       "      <th></th>\n",
       "      <th></th>\n",
       "      <th></th>\n",
       "      <th></th>\n",
       "    </tr>\n",
       "  </thead>\n",
       "  <tbody>\n",
       "    <tr>\n",
       "      <th>1996-08-29 00:00:00</th>\n",
       "      <td>8.8750</td>\n",
       "      <td>8.9375</td>\n",
       "      <td>145600.0</td>\n",
       "      <td>9.0000</td>\n",
       "      <td>8.8750</td>\n",
       "      <td>7.718067</td>\n",
       "      <td>1100</td>\n",
       "      <td>1</td>\n",
       "      <td>7.504167</td>\n",
       "    </tr>\n",
       "    <tr>\n",
       "      <th>1996-08-30 00:00:00</th>\n",
       "      <td>8.6875</td>\n",
       "      <td>9.0000</td>\n",
       "      <td>129800.0</td>\n",
       "      <td>9.0625</td>\n",
       "      <td>9.0625</td>\n",
       "      <td>7.881122</td>\n",
       "      <td>1100</td>\n",
       "      <td>1</td>\n",
       "      <td>7.600000</td>\n",
       "    </tr>\n",
       "    <tr>\n",
       "      <th>1996-09-03 00:00:00</th>\n",
       "      <td>8.8125</td>\n",
       "      <td>8.8125</td>\n",
       "      <td>108600.0</td>\n",
       "      <td>9.2500</td>\n",
       "      <td>9.0625</td>\n",
       "      <td>7.881122</td>\n",
       "      <td>1100</td>\n",
       "      <td>1</td>\n",
       "      <td>7.702083</td>\n",
       "    </tr>\n",
       "    <tr>\n",
       "      <th>1996-09-04 00:00:00</th>\n",
       "      <td>9.0625</td>\n",
       "      <td>9.2500</td>\n",
       "      <td>58800.0</td>\n",
       "      <td>9.2500</td>\n",
       "      <td>9.0625</td>\n",
       "      <td>7.881122</td>\n",
       "      <td>1100</td>\n",
       "      <td>1</td>\n",
       "      <td>7.829167</td>\n",
       "    </tr>\n",
       "    <tr>\n",
       "      <th>1996-09-05 00:00:00</th>\n",
       "      <td>9.0625</td>\n",
       "      <td>9.1250</td>\n",
       "      <td>150200.0</td>\n",
       "      <td>9.1250</td>\n",
       "      <td>9.1250</td>\n",
       "      <td>8.438284</td>\n",
       "      <td>1100</td>\n",
       "      <td>1</td>\n",
       "      <td>7.966667</td>\n",
       "    </tr>\n",
       "  </tbody>\n",
       "</table>\n",
       "</div>"
      ],
      "text/plain": [
       "                        Low    Open    Volume    High   Close  Adjusted Close  \\\n",
       "Date                                                                            \n",
       "1996-08-29 00:00:00  8.8750  8.9375  145600.0  9.0000  8.8750        7.718067   \n",
       "1996-08-30 00:00:00  8.6875  9.0000  129800.0  9.0625  9.0625        7.881122   \n",
       "1996-09-03 00:00:00  8.8125  8.8125  108600.0  9.2500  9.0625        7.881122   \n",
       "1996-09-04 00:00:00  9.0625  9.2500   58800.0  9.2500  9.0625        7.881122   \n",
       "1996-09-05 00:00:00  9.0625  9.1250  150200.0  9.1250  9.1250        8.438284   \n",
       "\n",
       "                     Symbol  Label  30_day_moving_average  \n",
       "Date                                                       \n",
       "1996-08-29 00:00:00    1100      1               7.504167  \n",
       "1996-08-30 00:00:00    1100      1               7.600000  \n",
       "1996-09-03 00:00:00    1100      1               7.702083  \n",
       "1996-09-04 00:00:00    1100      1               7.829167  \n",
       "1996-09-05 00:00:00    1100      1               7.966667  "
      ]
     },
     "execution_count": 7,
     "metadata": {},
     "output_type": "execute_result"
    }
   ],
   "source": [
    "data.head()"
   ]
  },
  {
   "cell_type": "code",
   "execution_count": 8,
   "metadata": {},
   "outputs": [
    {
     "data": {
      "text/html": [
       "<div>\n",
       "<style scoped>\n",
       "    .dataframe tbody tr th:only-of-type {\n",
       "        vertical-align: middle;\n",
       "    }\n",
       "\n",
       "    .dataframe tbody tr th {\n",
       "        vertical-align: top;\n",
       "    }\n",
       "\n",
       "    .dataframe thead th {\n",
       "        text-align: right;\n",
       "    }\n",
       "</style>\n",
       "<table border=\"1\" class=\"dataframe\">\n",
       "  <thead>\n",
       "    <tr style=\"text-align: right;\">\n",
       "      <th></th>\n",
       "      <th>Low</th>\n",
       "      <th>Open</th>\n",
       "      <th>Volume</th>\n",
       "      <th>High</th>\n",
       "      <th>Close</th>\n",
       "      <th>Adjusted Close</th>\n",
       "      <th>Symbol</th>\n",
       "      <th>Label</th>\n",
       "      <th>30_day_moving_average</th>\n",
       "    </tr>\n",
       "    <tr>\n",
       "      <th>Date</th>\n",
       "      <th></th>\n",
       "      <th></th>\n",
       "      <th></th>\n",
       "      <th></th>\n",
       "      <th></th>\n",
       "      <th></th>\n",
       "      <th></th>\n",
       "      <th></th>\n",
       "      <th></th>\n",
       "    </tr>\n",
       "  </thead>\n",
       "  <tbody>\n",
       "    <tr>\n",
       "      <th>2022-12-06 00:00:00</th>\n",
       "      <td>115.260002</td>\n",
       "      <td>118.160004</td>\n",
       "      <td>75700.0</td>\n",
       "      <td>118.209999</td>\n",
       "      <td>117.279999</td>\n",
       "      <td>117.279999</td>\n",
       "      <td>921</td>\n",
       "      <td>0</td>\n",
       "      <td>116.012000</td>\n",
       "    </tr>\n",
       "    <tr>\n",
       "      <th>2022-12-07 00:00:00</th>\n",
       "      <td>116.220001</td>\n",
       "      <td>117.779999</td>\n",
       "      <td>89200.0</td>\n",
       "      <td>118.680000</td>\n",
       "      <td>116.500000</td>\n",
       "      <td>116.500000</td>\n",
       "      <td>921</td>\n",
       "      <td>0</td>\n",
       "      <td>116.281000</td>\n",
       "    </tr>\n",
       "    <tr>\n",
       "      <th>2022-12-08 00:00:00</th>\n",
       "      <td>114.720001</td>\n",
       "      <td>116.190002</td>\n",
       "      <td>81800.0</td>\n",
       "      <td>117.620003</td>\n",
       "      <td>116.029999</td>\n",
       "      <td>116.029999</td>\n",
       "      <td>921</td>\n",
       "      <td>0</td>\n",
       "      <td>116.493667</td>\n",
       "    </tr>\n",
       "    <tr>\n",
       "      <th>2022-12-09 00:00:00</th>\n",
       "      <td>113.849998</td>\n",
       "      <td>116.059998</td>\n",
       "      <td>200600.0</td>\n",
       "      <td>118.129997</td>\n",
       "      <td>116.790001</td>\n",
       "      <td>116.790001</td>\n",
       "      <td>921</td>\n",
       "      <td>0</td>\n",
       "      <td>116.733667</td>\n",
       "    </tr>\n",
       "    <tr>\n",
       "      <th>2022-12-12 00:00:00</th>\n",
       "      <td>116.430000</td>\n",
       "      <td>116.699997</td>\n",
       "      <td>6956.0</td>\n",
       "      <td>117.730003</td>\n",
       "      <td>117.730003</td>\n",
       "      <td>117.730003</td>\n",
       "      <td>921</td>\n",
       "      <td>0</td>\n",
       "      <td>116.912667</td>\n",
       "    </tr>\n",
       "  </tbody>\n",
       "</table>\n",
       "</div>"
      ],
      "text/plain": [
       "                            Low        Open    Volume        High       Close  \\\n",
       "Date                                                                            \n",
       "2022-12-06 00:00:00  115.260002  118.160004   75700.0  118.209999  117.279999   \n",
       "2022-12-07 00:00:00  116.220001  117.779999   89200.0  118.680000  116.500000   \n",
       "2022-12-08 00:00:00  114.720001  116.190002   81800.0  117.620003  116.029999   \n",
       "2022-12-09 00:00:00  113.849998  116.059998  200600.0  118.129997  116.790001   \n",
       "2022-12-12 00:00:00  116.430000  116.699997    6956.0  117.730003  117.730003   \n",
       "\n",
       "                     Adjusted Close  Symbol  Label  30_day_moving_average  \n",
       "Date                                                                       \n",
       "2022-12-06 00:00:00      117.279999     921      0             116.012000  \n",
       "2022-12-07 00:00:00      116.500000     921      0             116.281000  \n",
       "2022-12-08 00:00:00      116.029999     921      0             116.493667  \n",
       "2022-12-09 00:00:00      116.790001     921      0             116.733667  \n",
       "2022-12-12 00:00:00      117.730003     921      0             116.912667  "
      ]
     },
     "execution_count": 8,
     "metadata": {},
     "output_type": "execute_result"
    }
   ],
   "source": [
    "data.tail()"
   ]
  },
  {
   "cell_type": "markdown",
   "metadata": {},
   "source": [
    "## Train and Test Models"
   ]
  },
  {
   "cell_type": "code",
   "execution_count": 9,
   "metadata": {
    "papermill": {
     "duration": 0.491383,
     "end_time": "2021-03-22T16:59:28.146260",
     "exception": false,
     "start_time": "2021-03-22T16:59:27.654877",
     "status": "completed"
    },
    "tags": []
   },
   "outputs": [],
   "source": [
    "X = data.drop(columns=[\"Label\", \"Symbol\"])\n",
    "y = data[\"Label\"]"
   ]
  },
  {
   "cell_type": "code",
   "execution_count": 10,
   "metadata": {},
   "outputs": [],
   "source": [
    "X_train, X_test, y_train, y_test = train_test_split(X, y, test_size=0.2)"
   ]
  },
  {
   "cell_type": "markdown",
   "metadata": {
    "tags": []
   },
   "source": [
    "### Logistic Regression"
   ]
  },
  {
   "cell_type": "code",
   "execution_count": 11,
   "metadata": {},
   "outputs": [],
   "source": [
    "from sklearn.linear_model import LogisticRegression"
   ]
  },
  {
   "cell_type": "markdown",
   "metadata": {},
   "source": [
    "#### Training"
   ]
  },
  {
   "cell_type": "code",
   "execution_count": 12,
   "metadata": {
    "papermill": {
     "duration": 0.04566,
     "end_time": "2021-03-22T16:59:27.557309",
     "exception": false,
     "start_time": "2021-03-22T16:59:27.511649",
     "status": "completed"
    },
    "tags": []
   },
   "outputs": [],
   "source": [
    "lr = LogisticRegression(max_iter=1000)\n",
    "scores = cross_val_score(lr, X_train, y_train, scoring=\"accuracy\", cv=5)"
   ]
  },
  {
   "cell_type": "code",
   "execution_count": 13,
   "metadata": {},
   "outputs": [
    {
     "name": "stdout",
     "output_type": "stream",
     "text": [
      "Cross-validation scores: [0.52367739 0.52297893 0.52406096 0.5230761  0.52351192]\n",
      "Average Train Accuracy: 0.5234610608229989\n"
     ]
    }
   ],
   "source": [
    "print(\"Cross-validation scores:\", scores)\n",
    "print(\"Average Train Accuracy:\", scores.mean())"
   ]
  },
  {
   "cell_type": "markdown",
   "metadata": {},
   "source": [
    "#### Testing"
   ]
  },
  {
   "cell_type": "code",
   "execution_count": 14,
   "metadata": {},
   "outputs": [],
   "source": [
    "lr.fit(X_train, y_train)\n",
    "y_pred = lr.predict(X_test)"
   ]
  },
  {
   "cell_type": "code",
   "execution_count": 15,
   "metadata": {},
   "outputs": [
    {
     "name": "stdout",
     "output_type": "stream",
     "text": [
      "Accuracy: 0.5235344830105528\n"
     ]
    }
   ],
   "source": [
    "print(\"Accuracy:\", accuracy_score(y_test, y_pred))"
   ]
  },
  {
   "cell_type": "markdown",
   "metadata": {},
   "source": [
    "### Random Forest Classifier"
   ]
  },
  {
   "cell_type": "code",
   "execution_count": 16,
   "metadata": {},
   "outputs": [],
   "source": [
    "from sklearn.ensemble import RandomForestClassifier"
   ]
  },
  {
   "cell_type": "code",
   "execution_count": 17,
   "metadata": {
    "papermill": {
     "duration": 0.04566,
     "end_time": "2021-03-22T16:59:27.557309",
     "exception": false,
     "start_time": "2021-03-22T16:59:27.511649",
     "status": "completed"
    },
    "tags": []
   },
   "outputs": [],
   "source": [
    "rf = RandomForestClassifier(n_estimators=75, max_depth=5)\n",
    "scores = cross_val_score(rf, X_train, y_train, scoring=\"accuracy\", cv=5)"
   ]
  },
  {
   "cell_type": "code",
   "execution_count": 18,
   "metadata": {},
   "outputs": [
    {
     "name": "stdout",
     "output_type": "stream",
     "text": [
      "Cross-validation scores: [0.53057209 0.52993574 0.53002122 0.5298751  0.53007129]\n",
      "Average Train Accuracy: 0.5300950850964666\n"
     ]
    }
   ],
   "source": [
    "print(\"Cross-validation scores:\", scores)\n",
    "print(\"Average Train Accuracy:\", scores.mean())"
   ]
  },
  {
   "cell_type": "code",
   "execution_count": 19,
   "metadata": {},
   "outputs": [],
   "source": [
    "rf.fit(X_train, y_train)\n",
    "y_pred = rf.predict(X_test)"
   ]
  },
  {
   "cell_type": "code",
   "execution_count": 20,
   "metadata": {},
   "outputs": [
    {
     "name": "stdout",
     "output_type": "stream",
     "text": [
      "Accuracy: 0.5300216550792997\n"
     ]
    }
   ],
   "source": [
    "print(\"Accuracy:\", accuracy_score(y_test, y_pred))"
   ]
  }
 ],
 "metadata": {
  "kernelspec": {
   "display_name": "Python 3 (ipykernel)",
   "language": "python",
   "name": "python3"
  },
  "language_info": {
   "codemirror_mode": {
    "name": "ipython",
    "version": 3
   },
   "file_extension": ".py",
   "mimetype": "text/x-python",
   "name": "python",
   "nbconvert_exporter": "python",
   "pygments_lexer": "ipython3",
   "version": "3.10.10"
  },
  "papermill": {
   "default_parameters": {},
   "duration": 14.315211,
   "end_time": "2021-03-22T16:59:33.498906",
   "environment_variables": {},
   "exception": null,
   "input_path": "__notebook__.ipynb",
   "output_path": "__notebook__.ipynb",
   "parameters": {},
   "start_time": "2021-03-22T16:59:19.183695",
   "version": "2.2.2"
  }
 },
 "nbformat": 4,
 "nbformat_minor": 4
}
