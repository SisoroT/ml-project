{
 "cells": [
  {
   "cell_type": "markdown",
   "metadata": {
    "papermill": {
     "duration": 0.030258,
     "end_time": "2021-03-22T16:59:25.542707",
     "exception": false,
     "start_time": "2021-03-22T16:59:25.512449",
     "status": "completed"
    },
    "tags": []
   },
   "source": [
    "<h1 style=\"text-align: center\" >Stock Prediction Using Logistic Regression</h1>"
   ]
  },
  {
   "cell_type": "markdown",
   "metadata": {},
   "source": [
    "## Import Libraries"
   ]
  },
  {
   "cell_type": "code",
   "execution_count": 1,
   "metadata": {
    "_cell_guid": "b1076dfc-b9ad-4769-8c92-a6c4dae69d19",
    "_uuid": "8f2839f25d086af736a60e9eeb907d3b93b6e0e5",
    "papermill": {
     "duration": 1.628352,
     "end_time": "2021-03-22T16:59:27.264171",
     "exception": false,
     "start_time": "2021-03-22T16:59:25.635819",
     "status": "completed"
    },
    "tags": []
   },
   "outputs": [],
   "source": [
    "import os\n",
    "import pandas as pd\n",
    "from tqdm.notebook import tqdm\n",
    "from sklearn.model_selection import train_test_split, cross_val_score\n",
    "from sklearn.preprocessing import LabelEncoder\n",
    "from sklearn.metrics import accuracy_score, classification_report, confusion_matrix"
   ]
  },
  {
   "cell_type": "markdown",
   "metadata": {},
   "source": [
    "## Load Data"
   ]
  },
  {
   "cell_type": "code",
   "execution_count": 2,
   "metadata": {
    "papermill": {
     "duration": 0.094249,
     "end_time": "2021-03-22T16:59:27.391556",
     "exception": false,
     "start_time": "2021-03-22T16:59:27.297307",
     "status": "completed"
    },
    "tags": []
   },
   "outputs": [],
   "source": [
    "def load_data(directory):\n",
    "    stock_data = []\n",
    "\n",
    "    files = [f for f in os.listdir(directory) if f.endswith(\".txt\")]\n",
    "\n",
    "    for filename in tqdm(files, desc=\"Loading data\"):\n",
    "        file_path = os.path.join(directory, filename)\n",
    "        if os.stat(file_path).st_size != 0:\n",
    "            symbol = filename.split(\".\")[0]\n",
    "            stock_df = pd.read_csv(file_path, parse_dates=[\"Date\"])\n",
    "            stock_df[\"Symbol\"] = symbol\n",
    "            stock_data.append(stock_df)\n",
    "\n",
    "    combined_df = pd.concat(stock_data)\n",
    "    return combined_df"
   ]
  },
  {
   "cell_type": "code",
   "execution_count": 3,
   "metadata": {},
   "outputs": [
    {
     "data": {
      "application/vnd.jupyter.widget-view+json": {
       "model_id": "3abcea90769c4914853cb0f14a4f5cd9",
       "version_major": 2,
       "version_minor": 0
      },
      "text/plain": [
       "Loading data:   0%|          | 0/7195 [00:00<?, ?it/s]"
      ]
     },
     "metadata": {},
     "output_type": "display_data"
    }
   ],
   "source": [
    "data = load_data(\"data/Stocks/\")"
   ]
  },
  {
   "cell_type": "markdown",
   "metadata": {},
   "source": [
    "## Preprocess Data"
   ]
  },
  {
   "cell_type": "code",
   "execution_count": 4,
   "metadata": {
    "papermill": {
     "duration": 0.055285,
     "end_time": "2021-03-22T16:59:27.478963",
     "exception": false,
     "start_time": "2021-03-22T16:59:27.423678",
     "status": "completed"
    },
    "tags": []
   },
   "outputs": [],
   "source": [
    "def preprocess_data(data, days_ahead=30):\n",
    "    data[\"Label\"] = data[\"Close\"].shift(-days_ahead) > data[\"Close\"]\n",
    "    data[\"Label\"] = data[\"Label\"].astype(int)\n",
    "    data[\"30_day_moving_average\"] = data[\"Close\"].rolling(window=30).mean()\n",
    "    data[\"Date\"] = data[\"Date\"].apply(lambda x: x.toordinal())\n",
    "    \n",
    "    data.dropna(inplace=True)\n",
    "    return data"
   ]
  },
  {
   "cell_type": "code",
   "execution_count": 5,
   "metadata": {},
   "outputs": [],
   "source": [
    "data = preprocess_data(data)"
   ]
  },
  {
   "cell_type": "code",
   "execution_count": 6,
   "metadata": {},
   "outputs": [],
   "source": [
    "le = LabelEncoder()\n",
    "data[\"Symbol\"] = le.fit_transform(data[\"Symbol\"])"
   ]
  },
  {
   "cell_type": "code",
   "execution_count": 7,
   "metadata": {},
   "outputs": [
    {
     "data": {
      "text/html": [
       "<div>\n",
       "<style scoped>\n",
       "    .dataframe tbody tr th:only-of-type {\n",
       "        vertical-align: middle;\n",
       "    }\n",
       "\n",
       "    .dataframe tbody tr th {\n",
       "        vertical-align: top;\n",
       "    }\n",
       "\n",
       "    .dataframe thead th {\n",
       "        text-align: right;\n",
       "    }\n",
       "</style>\n",
       "<table border=\"1\" class=\"dataframe\">\n",
       "  <thead>\n",
       "    <tr style=\"text-align: right;\">\n",
       "      <th></th>\n",
       "      <th>Date</th>\n",
       "      <th>Open</th>\n",
       "      <th>High</th>\n",
       "      <th>Low</th>\n",
       "      <th>Close</th>\n",
       "      <th>Volume</th>\n",
       "      <th>OpenInt</th>\n",
       "      <th>Symbol</th>\n",
       "      <th>Label</th>\n",
       "      <th>30_day_moving_average</th>\n",
       "    </tr>\n",
       "  </thead>\n",
       "  <tbody>\n",
       "    <tr>\n",
       "      <th>29</th>\n",
       "      <td>730119</td>\n",
       "      <td>53.666</td>\n",
       "      <td>53.966</td>\n",
       "      <td>51.473</td>\n",
       "      <td>52.188</td>\n",
       "      <td>2046399</td>\n",
       "      <td>0</td>\n",
       "      <td>0</td>\n",
       "      <td>0</td>\n",
       "      <td>32.633967</td>\n",
       "    </tr>\n",
       "    <tr>\n",
       "      <th>30</th>\n",
       "      <td>730122</td>\n",
       "      <td>53.161</td>\n",
       "      <td>53.286</td>\n",
       "      <td>45.483</td>\n",
       "      <td>48.602</td>\n",
       "      <td>4953196</td>\n",
       "      <td>0</td>\n",
       "      <td>0</td>\n",
       "      <td>1</td>\n",
       "      <td>33.263967</td>\n",
       "    </tr>\n",
       "    <tr>\n",
       "      <th>31</th>\n",
       "      <td>730123</td>\n",
       "      <td>45.984</td>\n",
       "      <td>46.495</td>\n",
       "      <td>43.708</td>\n",
       "      <td>44.890</td>\n",
       "      <td>5049339</td>\n",
       "      <td>0</td>\n",
       "      <td>0</td>\n",
       "      <td>1</td>\n",
       "      <td>33.851733</td>\n",
       "    </tr>\n",
       "    <tr>\n",
       "      <th>32</th>\n",
       "      <td>730124</td>\n",
       "      <td>44.722</td>\n",
       "      <td>44.890</td>\n",
       "      <td>40.710</td>\n",
       "      <td>42.109</td>\n",
       "      <td>6102164</td>\n",
       "      <td>0</td>\n",
       "      <td>0</td>\n",
       "      <td>1</td>\n",
       "      <td>34.265300</td>\n",
       "    </tr>\n",
       "    <tr>\n",
       "      <th>33</th>\n",
       "      <td>730125</td>\n",
       "      <td>41.596</td>\n",
       "      <td>41.854</td>\n",
       "      <td>39.232</td>\n",
       "      <td>40.502</td>\n",
       "      <td>2685624</td>\n",
       "      <td>0</td>\n",
       "      <td>0</td>\n",
       "      <td>1</td>\n",
       "      <td>34.715300</td>\n",
       "    </tr>\n",
       "  </tbody>\n",
       "</table>\n",
       "</div>"
      ],
      "text/plain": [
       "      Date    Open    High     Low   Close   Volume  OpenInt  Symbol  Label  \\\n",
       "29  730119  53.666  53.966  51.473  52.188  2046399        0       0      0   \n",
       "30  730122  53.161  53.286  45.483  48.602  4953196        0       0      1   \n",
       "31  730123  45.984  46.495  43.708  44.890  5049339        0       0      1   \n",
       "32  730124  44.722  44.890  40.710  42.109  6102164        0       0      1   \n",
       "33  730125  41.596  41.854  39.232  40.502  2685624        0       0      1   \n",
       "\n",
       "    30_day_moving_average  \n",
       "29              32.633967  \n",
       "30              33.263967  \n",
       "31              33.851733  \n",
       "32              34.265300  \n",
       "33              34.715300  "
      ]
     },
     "execution_count": 7,
     "metadata": {},
     "output_type": "execute_result"
    }
   ],
   "source": [
    "data.head()"
   ]
  },
  {
   "cell_type": "code",
   "execution_count": 8,
   "metadata": {},
   "outputs": [
    {
     "data": {
      "text/html": [
       "<div>\n",
       "<style scoped>\n",
       "    .dataframe tbody tr th:only-of-type {\n",
       "        vertical-align: middle;\n",
       "    }\n",
       "\n",
       "    .dataframe tbody tr th {\n",
       "        vertical-align: top;\n",
       "    }\n",
       "\n",
       "    .dataframe thead th {\n",
       "        text-align: right;\n",
       "    }\n",
       "</style>\n",
       "<table border=\"1\" class=\"dataframe\">\n",
       "  <thead>\n",
       "    <tr style=\"text-align: right;\">\n",
       "      <th></th>\n",
       "      <th>Date</th>\n",
       "      <th>Open</th>\n",
       "      <th>High</th>\n",
       "      <th>Low</th>\n",
       "      <th>Close</th>\n",
       "      <th>Volume</th>\n",
       "      <th>OpenInt</th>\n",
       "      <th>Symbol</th>\n",
       "      <th>Label</th>\n",
       "      <th>30_day_moving_average</th>\n",
       "    </tr>\n",
       "  </thead>\n",
       "  <tbody>\n",
       "    <tr>\n",
       "      <th>569</th>\n",
       "      <td>736639</td>\n",
       "      <td>10.42</td>\n",
       "      <td>11.5400</td>\n",
       "      <td>10.4200</td>\n",
       "      <td>11.19</td>\n",
       "      <td>977948</td>\n",
       "      <td>0</td>\n",
       "      <td>7162</td>\n",
       "      <td>0</td>\n",
       "      <td>9.496000</td>\n",
       "    </tr>\n",
       "    <tr>\n",
       "      <th>570</th>\n",
       "      <td>736640</td>\n",
       "      <td>11.30</td>\n",
       "      <td>11.4200</td>\n",
       "      <td>10.6700</td>\n",
       "      <td>10.83</td>\n",
       "      <td>451210</td>\n",
       "      <td>0</td>\n",
       "      <td>7162</td>\n",
       "      <td>0</td>\n",
       "      <td>9.662333</td>\n",
       "    </tr>\n",
       "    <tr>\n",
       "      <th>571</th>\n",
       "      <td>736641</td>\n",
       "      <td>10.70</td>\n",
       "      <td>11.0600</td>\n",
       "      <td>10.3500</td>\n",
       "      <td>10.90</td>\n",
       "      <td>336449</td>\n",
       "      <td>0</td>\n",
       "      <td>7162</td>\n",
       "      <td>0</td>\n",
       "      <td>9.819333</td>\n",
       "    </tr>\n",
       "    <tr>\n",
       "      <th>572</th>\n",
       "      <td>736642</td>\n",
       "      <td>11.00</td>\n",
       "      <td>11.8563</td>\n",
       "      <td>10.9700</td>\n",
       "      <td>11.60</td>\n",
       "      <td>463067</td>\n",
       "      <td>0</td>\n",
       "      <td>7162</td>\n",
       "      <td>0</td>\n",
       "      <td>9.891333</td>\n",
       "    </tr>\n",
       "    <tr>\n",
       "      <th>573</th>\n",
       "      <td>736643</td>\n",
       "      <td>11.68</td>\n",
       "      <td>13.1500</td>\n",
       "      <td>11.3043</td>\n",
       "      <td>12.46</td>\n",
       "      <td>885587</td>\n",
       "      <td>0</td>\n",
       "      <td>7162</td>\n",
       "      <td>0</td>\n",
       "      <td>10.028000</td>\n",
       "    </tr>\n",
       "  </tbody>\n",
       "</table>\n",
       "</div>"
      ],
      "text/plain": [
       "       Date   Open     High      Low  Close  Volume  OpenInt  Symbol  Label  \\\n",
       "569  736639  10.42  11.5400  10.4200  11.19  977948        0    7162      0   \n",
       "570  736640  11.30  11.4200  10.6700  10.83  451210        0    7162      0   \n",
       "571  736641  10.70  11.0600  10.3500  10.90  336449        0    7162      0   \n",
       "572  736642  11.00  11.8563  10.9700  11.60  463067        0    7162      0   \n",
       "573  736643  11.68  13.1500  11.3043  12.46  885587        0    7162      0   \n",
       "\n",
       "     30_day_moving_average  \n",
       "569               9.496000  \n",
       "570               9.662333  \n",
       "571               9.819333  \n",
       "572               9.891333  \n",
       "573              10.028000  "
      ]
     },
     "execution_count": 8,
     "metadata": {},
     "output_type": "execute_result"
    }
   ],
   "source": [
    "data.tail()"
   ]
  },
  {
   "cell_type": "markdown",
   "metadata": {},
   "source": [
    "## Train and Test Models"
   ]
  },
  {
   "cell_type": "code",
   "execution_count": 9,
   "metadata": {
    "papermill": {
     "duration": 0.491383,
     "end_time": "2021-03-22T16:59:28.146260",
     "exception": false,
     "start_time": "2021-03-22T16:59:27.654877",
     "status": "completed"
    },
    "tags": []
   },
   "outputs": [],
   "source": [
    "# features = [\n",
    "#     \"Open\",\n",
    "#     \"High\",\n",
    "#     \"Low\",\n",
    "#     \"Close\",\n",
    "#     \"Volume\",\n",
    "#     \"OpenInt\",\n",
    "#     \"30_day_moving_average\",\n",
    "#     \"Symbol\",\n",
    "# ]\n",
    "# target = \"Label\"\n",
    "\n",
    "X = data.drop(columns=\"Label\")\n",
    "y = data[\"Label\"]"
   ]
  },
  {
   "cell_type": "code",
   "execution_count": 10,
   "metadata": {},
   "outputs": [],
   "source": [
    "X_train, X_test, y_train, y_test = train_test_split(X, y, test_size=0.2)"
   ]
  },
  {
   "cell_type": "markdown",
   "metadata": {
    "tags": []
   },
   "source": [
    "### Logistic Regression"
   ]
  },
  {
   "cell_type": "code",
   "execution_count": 11,
   "metadata": {},
   "outputs": [],
   "source": [
    "from sklearn.linear_model import LogisticRegression"
   ]
  },
  {
   "cell_type": "markdown",
   "metadata": {},
   "source": [
    "#### Training"
   ]
  },
  {
   "cell_type": "code",
   "execution_count": 12,
   "metadata": {
    "papermill": {
     "duration": 0.04566,
     "end_time": "2021-03-22T16:59:27.557309",
     "exception": false,
     "start_time": "2021-03-22T16:59:27.511649",
     "status": "completed"
    },
    "tags": []
   },
   "outputs": [],
   "source": [
    "lr = LogisticRegression(max_iter=1000)\n",
    "scores = cross_val_score(lr, X_train, y_train, scoring=\"accuracy\", cv=5)"
   ]
  },
  {
   "cell_type": "code",
   "execution_count": 13,
   "metadata": {},
   "outputs": [
    {
     "name": "stdout",
     "output_type": "stream",
     "text": [
      "Cross-validation scores: [0.54778125 0.54777706 0.54778377 0.54777645 0.54778106]\n",
      "Average Train Accuracy: 0.5477799193758506\n"
     ]
    }
   ],
   "source": [
    "print(\"Cross-validation scores:\", scores)\n",
    "print(\"Average Train Accuracy:\", scores.mean())"
   ]
  },
  {
   "cell_type": "markdown",
   "metadata": {},
   "source": [
    "#### Testing"
   ]
  },
  {
   "cell_type": "code",
   "execution_count": 14,
   "metadata": {},
   "outputs": [],
   "source": [
    "lr.fit(X_train, y_train)\n",
    "y_pred = lr.predict(X_test)"
   ]
  },
  {
   "cell_type": "code",
   "execution_count": 15,
   "metadata": {},
   "outputs": [
    {
     "name": "stdout",
     "output_type": "stream",
     "text": [
      "Test Accuracy: 0.547252284445352\n"
     ]
    }
   ],
   "source": [
    "print(\"Test Accuracy:\", accuracy_score(y_test, y_pred))\n",
    "# print(\"Confusion matrix:\\n\", confusion_matrix(y_test, y_pred))\n",
    "# print(\"Classification report:\\n\", classification_report(y_test, y_pred))"
   ]
  }
 ],
 "metadata": {
  "kernelspec": {
   "display_name": "Python 3 (ipykernel)",
   "language": "python",
   "name": "python3"
  },
  "language_info": {
   "codemirror_mode": {
    "name": "ipython",
    "version": 3
   },
   "file_extension": ".py",
   "mimetype": "text/x-python",
   "name": "python",
   "nbconvert_exporter": "python",
   "pygments_lexer": "ipython3",
   "version": "3.10.10"
  },
  "papermill": {
   "default_parameters": {},
   "duration": 14.315211,
   "end_time": "2021-03-22T16:59:33.498906",
   "environment_variables": {},
   "exception": null,
   "input_path": "__notebook__.ipynb",
   "output_path": "__notebook__.ipynb",
   "parameters": {},
   "start_time": "2021-03-22T16:59:19.183695",
   "version": "2.2.2"
  }
 },
 "nbformat": 4,
 "nbformat_minor": 4
}
