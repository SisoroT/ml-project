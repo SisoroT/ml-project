{
 "cells": [
  {
   "cell_type": "markdown",
   "metadata": {
    "papermill": {
     "duration": 0.030258,
     "end_time": "2021-03-22T16:59:25.542707",
     "exception": false,
     "start_time": "2021-03-22T16:59:25.512449",
     "status": "completed"
    },
    "tags": []
   },
   "source": [
    "<h1 style=\"text-align: center\" >Stock Prediction Using Logistic Regression</h1>"
   ]
  },
  {
   "cell_type": "markdown",
   "metadata": {},
   "source": [
    "## Import Libraries"
   ]
  },
  {
   "cell_type": "code",
   "execution_count": 1,
   "metadata": {
    "_cell_guid": "b1076dfc-b9ad-4769-8c92-a6c4dae69d19",
    "_uuid": "8f2839f25d086af736a60e9eeb907d3b93b6e0e5",
    "papermill": {
     "duration": 1.628352,
     "end_time": "2021-03-22T16:59:27.264171",
     "exception": false,
     "start_time": "2021-03-22T16:59:25.635819",
     "status": "completed"
    },
    "tags": []
   },
   "outputs": [],
   "source": [
    "import datetime\n",
    "import numpy as np\n",
    "import pandas as pd\n",
    "import matplotlib.pyplot as plt\n",
    "from sklearn.model_selection import train_test_split, cross_val_score\n",
    "from sklearn.metrics import mean_squared_error"
   ]
  },
  {
   "cell_type": "markdown",
   "metadata": {},
   "source": [
    "## Functions"
   ]
  },
  {
   "cell_type": "markdown",
   "metadata": {},
   "source": [
    "### Preprocessing"
   ]
  },
  {
   "cell_type": "code",
   "execution_count": 2,
   "metadata": {
    "papermill": {
     "duration": 0.055285,
     "end_time": "2021-03-22T16:59:27.478963",
     "exception": false,
     "start_time": "2021-03-22T16:59:27.423678",
     "status": "completed"
    },
    "tags": []
   },
   "outputs": [],
   "source": [
    "def preprocess_data(df, days_ahead=30, window_size=30):\n",
    "    df[\"Label\"] = df[\"Close\"].shift(-days_ahead)\n",
    "    df[\"30_day_moving_average\"] = df[\"Close\"].rolling(window=window_size).mean()\n",
    "\n",
    "    df.dropna(inplace=True)\n",
    "    return df"
   ]
  },
  {
   "cell_type": "markdown",
   "metadata": {},
   "source": [
    "### Load Data"
   ]
  },
  {
   "cell_type": "code",
   "execution_count": 3,
   "metadata": {
    "papermill": {
     "duration": 0.055285,
     "end_time": "2021-03-22T16:59:27.478963",
     "exception": false,
     "start_time": "2021-03-22T16:59:27.423678",
     "status": "completed"
    },
    "tags": []
   },
   "outputs": [],
   "source": [
    "def load_data(stock):\n",
    "    stock = stock.upper()\n",
    "    df = pd.read_csv(f\"nasdaq/{stock}.csv\", parse_dates=[\"Date\"], dayfirst=True)\n",
    "    df = preprocess_data(df)\n",
    "    df.index = df.pop(\"Date\")\n",
    "    return df"
   ]
  },
  {
   "cell_type": "markdown",
   "metadata": {},
   "source": [
    "### LSTM Functions"
   ]
  },
  {
   "cell_type": "code",
   "execution_count": 4,
   "metadata": {},
   "outputs": [],
   "source": [
    "def df_to_windowed_df(df, n=3):\n",
    "    last_date = df.index.max()\n",
    "    target_date = df.index[n]\n",
    "\n",
    "    dates = []\n",
    "    X, Y = [], []\n",
    "\n",
    "    last_time = False\n",
    "    while True:\n",
    "        df_subset = df.loc[:target_date].tail(n + 1)\n",
    "\n",
    "        if len(df_subset) != n + 1:\n",
    "            print(f\"Error: Window of size {n} is too large for date {target_date}\")\n",
    "            return\n",
    "\n",
    "        values = df_subset[\"Close\"].to_numpy()\n",
    "        x, y = values[:-1], values[-1]\n",
    "\n",
    "        dates.append(target_date)\n",
    "        X.append(x)\n",
    "        Y.append(y)\n",
    "\n",
    "        next_week = df.loc[target_date : target_date + datetime.timedelta(days=7)]\n",
    "        next_datetime_str = str(next_week.head(2).tail(1).index.values[0])\n",
    "        next_date_str = next_datetime_str.split(\"T\")[0]\n",
    "        year_month_day = next_date_str.split(\"-\")\n",
    "        year, month, day = year_month_day\n",
    "        next_date = datetime.datetime(day=int(day), month=int(month), year=int(year))\n",
    "\n",
    "        if last_time:\n",
    "            break\n",
    "\n",
    "        target_date = next_date\n",
    "\n",
    "        if target_date == last_date:\n",
    "            last_time = True\n",
    "\n",
    "    ret_df = pd.DataFrame({})\n",
    "    ret_df[\"Target Date\"] = dates\n",
    "\n",
    "    X = np.array(X)\n",
    "    for i in range(0, n):\n",
    "        X[:, i]\n",
    "        ret_df[f\"Target-{n-i}\"] = X[:, i]\n",
    "\n",
    "    ret_df[\"Target\"] = Y\n",
    "\n",
    "    return ret_df"
   ]
  },
  {
   "cell_type": "code",
   "execution_count": 5,
   "metadata": {},
   "outputs": [],
   "source": [
    "def windowed_df_to_date_X_y(windowed_dataframe):\n",
    "    df_as_np = windowed_dataframe.to_numpy()\n",
    "  \n",
    "    dates = df_as_np[:, 0]\n",
    "  \n",
    "    middle_matrix = df_as_np[:, 1:-1]\n",
    "    X = middle_matrix.reshape((len(dates), middle_matrix.shape[1], 1))\n",
    "  \n",
    "    Y = df_as_np[:, -1]\n",
    "  \n",
    "    return dates, X.astype(np.float32), Y.astype(np.float32)"
   ]
  },
  {
   "cell_type": "markdown",
   "metadata": {},
   "source": [
    "## Train and Test Models"
   ]
  },
  {
   "cell_type": "markdown",
   "metadata": {},
   "source": [
    "### Amazon Dataframe"
   ]
  },
  {
   "cell_type": "code",
   "execution_count": 6,
   "metadata": {},
   "outputs": [],
   "source": [
    "df = load_data(\"AMZN\")"
   ]
  },
  {
   "cell_type": "code",
   "execution_count": 7,
   "metadata": {},
   "outputs": [
    {
     "data": {
      "text/html": [
       "<div>\n",
       "<style scoped>\n",
       "    .dataframe tbody tr th:only-of-type {\n",
       "        vertical-align: middle;\n",
       "    }\n",
       "\n",
       "    .dataframe tbody tr th {\n",
       "        vertical-align: top;\n",
       "    }\n",
       "\n",
       "    .dataframe thead th {\n",
       "        text-align: right;\n",
       "    }\n",
       "</style>\n",
       "<table border=\"1\" class=\"dataframe\">\n",
       "  <thead>\n",
       "    <tr style=\"text-align: right;\">\n",
       "      <th></th>\n",
       "      <th>Low</th>\n",
       "      <th>Open</th>\n",
       "      <th>Volume</th>\n",
       "      <th>High</th>\n",
       "      <th>Close</th>\n",
       "      <th>Adjusted Close</th>\n",
       "      <th>Label</th>\n",
       "      <th>30_day_moving_average</th>\n",
       "    </tr>\n",
       "    <tr>\n",
       "      <th>Date</th>\n",
       "      <th></th>\n",
       "      <th></th>\n",
       "      <th></th>\n",
       "      <th></th>\n",
       "      <th></th>\n",
       "      <th></th>\n",
       "      <th></th>\n",
       "      <th></th>\n",
       "    </tr>\n",
       "  </thead>\n",
       "  <tbody>\n",
       "    <tr>\n",
       "      <th>1997-06-26</th>\n",
       "      <td>0.075260</td>\n",
       "      <td>0.076042</td>\n",
       "      <td>63792000</td>\n",
       "      <td>0.076042</td>\n",
       "      <td>0.075521</td>\n",
       "      <td>0.075521</td>\n",
       "      <td>0.114583</td>\n",
       "      <td>0.077891</td>\n",
       "    </tr>\n",
       "    <tr>\n",
       "      <th>1997-06-27</th>\n",
       "      <td>0.073958</td>\n",
       "      <td>0.075781</td>\n",
       "      <td>23760000</td>\n",
       "      <td>0.075781</td>\n",
       "      <td>0.074479</td>\n",
       "      <td>0.074479</td>\n",
       "      <td>0.116406</td>\n",
       "      <td>0.077109</td>\n",
       "    </tr>\n",
       "    <tr>\n",
       "      <th>1997-06-30</th>\n",
       "      <td>0.073958</td>\n",
       "      <td>0.075521</td>\n",
       "      <td>54936000</td>\n",
       "      <td>0.079948</td>\n",
       "      <td>0.077083</td>\n",
       "      <td>0.077083</td>\n",
       "      <td>0.109896</td>\n",
       "      <td>0.076797</td>\n",
       "    </tr>\n",
       "    <tr>\n",
       "      <th>1997-07-01</th>\n",
       "      <td>0.075521</td>\n",
       "      <td>0.077083</td>\n",
       "      <td>25848000</td>\n",
       "      <td>0.077083</td>\n",
       "      <td>0.075781</td>\n",
       "      <td>0.075781</td>\n",
       "      <td>0.109896</td>\n",
       "      <td>0.076476</td>\n",
       "    </tr>\n",
       "    <tr>\n",
       "      <th>1997-07-02</th>\n",
       "      <td>0.075521</td>\n",
       "      <td>0.075781</td>\n",
       "      <td>77640000</td>\n",
       "      <td>0.079688</td>\n",
       "      <td>0.079427</td>\n",
       "      <td>0.079427</td>\n",
       "      <td>0.107813</td>\n",
       "      <td>0.076398</td>\n",
       "    </tr>\n",
       "    <tr>\n",
       "      <th>...</th>\n",
       "      <td>...</td>\n",
       "      <td>...</td>\n",
       "      <td>...</td>\n",
       "      <td>...</td>\n",
       "      <td>...</td>\n",
       "      <td>...</td>\n",
       "      <td>...</td>\n",
       "      <td>...</td>\n",
       "    </tr>\n",
       "    <tr>\n",
       "      <th>2022-10-24</th>\n",
       "      <td>116.570000</td>\n",
       "      <td>119.980003</td>\n",
       "      <td>49531500</td>\n",
       "      <td>120.389999</td>\n",
       "      <td>119.820000</td>\n",
       "      <td>119.820000</td>\n",
       "      <td>88.250000</td>\n",
       "      <td>117.587667</td>\n",
       "    </tr>\n",
       "    <tr>\n",
       "      <th>2022-10-25</th>\n",
       "      <td>118.949997</td>\n",
       "      <td>119.650002</td>\n",
       "      <td>50934600</td>\n",
       "      <td>121.320000</td>\n",
       "      <td>120.599998</td>\n",
       "      <td>120.599998</td>\n",
       "      <td>88.459999</td>\n",
       "      <td>117.380333</td>\n",
       "    </tr>\n",
       "    <tr>\n",
       "      <th>2022-10-26</th>\n",
       "      <td>114.760002</td>\n",
       "      <td>116.000000</td>\n",
       "      <td>68802300</td>\n",
       "      <td>119.349998</td>\n",
       "      <td>115.660004</td>\n",
       "      <td>115.660004</td>\n",
       "      <td>90.349998</td>\n",
       "      <td>116.950667</td>\n",
       "    </tr>\n",
       "    <tr>\n",
       "      <th>2022-10-27</th>\n",
       "      <td>109.769997</td>\n",
       "      <td>113.919998</td>\n",
       "      <td>129605400</td>\n",
       "      <td>114.120003</td>\n",
       "      <td>110.959999</td>\n",
       "      <td>110.959999</td>\n",
       "      <td>89.089996</td>\n",
       "      <td>116.440000</td>\n",
       "    </tr>\n",
       "    <tr>\n",
       "      <th>2022-10-28</th>\n",
       "      <td>97.660004</td>\n",
       "      <td>97.910004</td>\n",
       "      <td>223133400</td>\n",
       "      <td>103.959999</td>\n",
       "      <td>103.410004</td>\n",
       "      <td>103.410004</td>\n",
       "      <td>88.605003</td>\n",
       "      <td>115.769334</td>\n",
       "    </tr>\n",
       "  </tbody>\n",
       "</table>\n",
       "<p>6379 rows × 8 columns</p>\n",
       "</div>"
      ],
      "text/plain": [
       "                   Low        Open     Volume        High       Close  \\\n",
       "Date                                                                    \n",
       "1997-06-26    0.075260    0.076042   63792000    0.076042    0.075521   \n",
       "1997-06-27    0.073958    0.075781   23760000    0.075781    0.074479   \n",
       "1997-06-30    0.073958    0.075521   54936000    0.079948    0.077083   \n",
       "1997-07-01    0.075521    0.077083   25848000    0.077083    0.075781   \n",
       "1997-07-02    0.075521    0.075781   77640000    0.079688    0.079427   \n",
       "...                ...         ...        ...         ...         ...   \n",
       "2022-10-24  116.570000  119.980003   49531500  120.389999  119.820000   \n",
       "2022-10-25  118.949997  119.650002   50934600  121.320000  120.599998   \n",
       "2022-10-26  114.760002  116.000000   68802300  119.349998  115.660004   \n",
       "2022-10-27  109.769997  113.919998  129605400  114.120003  110.959999   \n",
       "2022-10-28   97.660004   97.910004  223133400  103.959999  103.410004   \n",
       "\n",
       "            Adjusted Close      Label  30_day_moving_average  \n",
       "Date                                                          \n",
       "1997-06-26        0.075521   0.114583               0.077891  \n",
       "1997-06-27        0.074479   0.116406               0.077109  \n",
       "1997-06-30        0.077083   0.109896               0.076797  \n",
       "1997-07-01        0.075781   0.109896               0.076476  \n",
       "1997-07-02        0.079427   0.107813               0.076398  \n",
       "...                    ...        ...                    ...  \n",
       "2022-10-24      119.820000  88.250000             117.587667  \n",
       "2022-10-25      120.599998  88.459999             117.380333  \n",
       "2022-10-26      115.660004  90.349998             116.950667  \n",
       "2022-10-27      110.959999  89.089996             116.440000  \n",
       "2022-10-28      103.410004  88.605003             115.769334  \n",
       "\n",
       "[6379 rows x 8 columns]"
      ]
     },
     "execution_count": 7,
     "metadata": {},
     "output_type": "execute_result"
    }
   ],
   "source": [
    "df"
   ]
  },
  {
   "cell_type": "code",
   "execution_count": 8,
   "metadata": {},
   "outputs": [
    {
     "data": {
      "text/plain": [
       "[<matplotlib.lines.Line2D at 0x7fa862af6020>]"
      ]
     },
     "execution_count": 8,
     "metadata": {},
     "output_type": "execute_result"
    },
    {
     "data": {
      "image/png": "[encoded data removed]",
      "text/plain": [
       "<Figure size 640x480 with 1 Axes>"
      ]
     },
     "metadata": {},
     "output_type": "display_data"
    }
   ],
   "source": [
    "plt.plot(df.index, df['Close'])"
   ]
  },
  {
   "cell_type": "code",
   "execution_count": 9,
   "metadata": {
    "papermill": {
     "duration": 0.491383,
     "end_time": "2021-03-22T16:59:28.146260",
     "exception": false,
     "start_time": "2021-03-22T16:59:27.654877",
     "status": "completed"
    },
    "tags": []
   },
   "outputs": [],
   "source": [
    "X = df.drop(columns=\"Label\")\n",
    "y = df[\"Label\"]"
   ]
  },
  {
   "cell_type": "code",
   "execution_count": 10,
   "metadata": {},
   "outputs": [],
   "source": [
    "X_train, X_test, y_train, y_test = train_test_split(X, y, test_size=0.2)"
   ]
  },
  {
   "cell_type": "markdown",
   "metadata": {
    "tags": []
   },
   "source": [
    "### Linear Regression"
   ]
  },
  {
   "cell_type": "code",
   "execution_count": 11,
   "metadata": {},
   "outputs": [],
   "source": [
    "from sklearn.linear_model import LinearRegression"
   ]
  },
  {
   "cell_type": "markdown",
   "metadata": {},
   "source": [
    "#### Training"
   ]
  },
  {
   "cell_type": "code",
   "execution_count": 12,
   "metadata": {
    "papermill": {
     "duration": 0.04566,
     "end_time": "2021-03-22T16:59:27.557309",
     "exception": false,
     "start_time": "2021-03-22T16:59:27.511649",
     "status": "completed"
    },
    "tags": []
   },
   "outputs": [
    {
     "data": {
      "text/html": [
       "<style>#sk-container-id-1 {color: black;background-color: white;}#sk-container-id-1 pre{padding: 0;}#sk-container-id-1 div.sk-toggleable {background-color: white;}#sk-container-id-1 label.sk-toggleable__label {cursor: pointer;display: block;width: 100%;margin-bottom: 0;padding: 0.3em;box-sizing: border-box;text-align: center;}#sk-container-id-1 label.sk-toggleable__label-arrow:before {content: \"▸\";float: left;margin-right: 0.25em;color: #696969;}#sk-container-id-1 label.sk-toggleable__label-arrow:hover:before {color: black;}#sk-container-id-1 div.sk-estimator:hover label.sk-toggleable__label-arrow:before {color: black;}#sk-container-id-1 div.sk-toggleable__content {max-height: 0;max-width: 0;overflow: hidden;text-align: left;background-color: #f0f8ff;}#sk-container-id-1 div.sk-toggleable__content pre {margin: 0.2em;color: black;border-radius: 0.25em;background-color: #f0f8ff;}#sk-container-id-1 input.sk-toggleable__control:checked~div.sk-toggleable__content {max-height: 200px;max-width: 100%;overflow: auto;}#sk-container-id-1 input.sk-toggleable__control:checked~label.sk-toggleable__label-arrow:before {content: \"▾\";}#sk-container-id-1 div.sk-estimator input.sk-toggleable__control:checked~label.sk-toggleable__label {background-color: #d4ebff;}#sk-container-id-1 div.sk-label input.sk-toggleable__control:checked~label.sk-toggleable__label {background-color: #d4ebff;}#sk-container-id-1 input.sk-hidden--visually {border: 0;clip: rect(1px 1px 1px 1px);clip: rect(1px, 1px, 1px, 1px);height: 1px;margin: -1px;overflow: hidden;padding: 0;position: absolute;width: 1px;}#sk-container-id-1 div.sk-estimator {font-family: monospace;background-color: #f0f8ff;border: 1px dotted black;border-radius: 0.25em;box-sizing: border-box;margin-bottom: 0.5em;}#sk-container-id-1 div.sk-estimator:hover {background-color: #d4ebff;}#sk-container-id-1 div.sk-parallel-item::after {content: \"\";width: 100%;border-bottom: 1px solid gray;flex-grow: 1;}#sk-container-id-1 div.sk-label:hover label.sk-toggleable__label {background-color: #d4ebff;}#sk-container-id-1 div.sk-serial::before {content: \"\";position: absolute;border-left: 1px solid gray;box-sizing: border-box;top: 0;bottom: 0;left: 50%;z-index: 0;}#sk-container-id-1 div.sk-serial {display: flex;flex-direction: column;align-items: center;background-color: white;padding-right: 0.2em;padding-left: 0.2em;position: relative;}#sk-container-id-1 div.sk-item {position: relative;z-index: 1;}#sk-container-id-1 div.sk-parallel {display: flex;align-items: stretch;justify-content: center;background-color: white;position: relative;}#sk-container-id-1 div.sk-item::before, #sk-container-id-1 div.sk-parallel-item::before {content: \"\";position: absolute;border-left: 1px solid gray;box-sizing: border-box;top: 0;bottom: 0;left: 50%;z-index: -1;}#sk-container-id-1 div.sk-parallel-item {display: flex;flex-direction: column;z-index: 1;position: relative;background-color: white;}#sk-container-id-1 div.sk-parallel-item:first-child::after {align-self: flex-end;width: 50%;}#sk-container-id-1 div.sk-parallel-item:last-child::after {align-self: flex-start;width: 50%;}#sk-container-id-1 div.sk-parallel-item:only-child::after {width: 0;}#sk-container-id-1 div.sk-dashed-wrapped {border: 1px dashed gray;margin: 0 0.4em 0.5em 0.4em;box-sizing: border-box;padding-bottom: 0.4em;background-color: white;}#sk-container-id-1 div.sk-label label {font-family: monospace;font-weight: bold;display: inline-block;line-height: 1.2em;}#sk-container-id-1 div.sk-label-container {text-align: center;}#sk-container-id-1 div.sk-container {/* jupyter's `normalize.less` sets `[hidden] { display: none; }` but bootstrap.min.css set `[hidden] { display: none !important; }` so we also need the `!important` here to be able to override the default hidden behavior on the sphinx rendered scikit-learn.org. See: https://github.com/scikit-learn/scikit-learn/issues/21755 */display: inline-block !important;position: relative;}#sk-container-id-1 div.sk-text-repr-fallback {display: none;}</style><div id=\"sk-container-id-1\" class=\"sk-top-container\"><div class=\"sk-text-repr-fallback\"><pre>LinearRegression()</pre><b>In a Jupyter environment, please rerun this cell to show the HTML representation or trust the notebook. <br />On GitHub, the HTML representation is unable to render, please try loading this page with nbviewer.org.</b></div><div class=\"sk-container\" hidden><div class=\"sk-item\"><div class=\"sk-estimator sk-toggleable\"><input class=\"sk-toggleable__control sk-hidden--visually\" id=\"sk-estimator-id-1\" type=\"checkbox\" checked><label for=\"sk-estimator-id-1\" class=\"sk-toggleable__label sk-toggleable__label-arrow\">LinearRegression</label><div class=\"sk-toggleable__content\"><pre>LinearRegression()</pre></div></div></div></div></div>"
      ],
      "text/plain": [
       "LinearRegression()"
      ]
     },
     "execution_count": 12,
     "metadata": {},
     "output_type": "execute_result"
    }
   ],
   "source": [
    "lr = LinearRegression()\n",
    "lr.fit(X_train, y_train)"
   ]
  },
  {
   "cell_type": "markdown",
   "metadata": {},
   "source": [
    "#### Results"
   ]
  },
  {
   "cell_type": "code",
   "execution_count": 13,
   "metadata": {},
   "outputs": [],
   "source": [
    "train_pred = lr.predict(X_train).flatten()\n",
    "test_pred = lr.predict(X_test).flatten()"
   ]
  },
  {
   "cell_type": "code",
   "execution_count": 14,
   "metadata": {},
   "outputs": [
    {
     "name": "stdout",
     "output_type": "stream",
     "text": [
      "Train Score: 6.21 RMSE\n",
      "Test Score: 5.99 RMSE\n"
     ]
    }
   ],
   "source": [
    "trainScore = np.sqrt(mean_squared_error(y_train, train_pred))\n",
    "print(\"Train Score: %.2f RMSE\" % (trainScore))\n",
    "testScore = np.sqrt(mean_squared_error(y_test, test_pred))\n",
    "print(\"Test Score: %.2f RMSE\" % (testScore))"
   ]
  },
  {
   "cell_type": "markdown",
   "metadata": {},
   "source": [
    "### Random Forest Regressor"
   ]
  },
  {
   "cell_type": "code",
   "execution_count": 15,
   "metadata": {},
   "outputs": [],
   "source": [
    "from sklearn.ensemble import RandomForestRegressor"
   ]
  },
  {
   "cell_type": "markdown",
   "metadata": {},
   "source": [
    "#### Training"
   ]
  },
  {
   "cell_type": "code",
   "execution_count": 16,
   "metadata": {
    "papermill": {
     "duration": 0.04566,
     "end_time": "2021-03-22T16:59:27.557309",
     "exception": false,
     "start_time": "2021-03-22T16:59:27.511649",
     "status": "completed"
    },
    "tags": []
   },
   "outputs": [
    {
     "data": {
      "text/html": [
       "<style>#sk-container-id-2 {color: black;background-color: white;}#sk-container-id-2 pre{padding: 0;}#sk-container-id-2 div.sk-toggleable {background-color: white;}#sk-container-id-2 label.sk-toggleable__label {cursor: pointer;display: block;width: 100%;margin-bottom: 0;padding: 0.3em;box-sizing: border-box;text-align: center;}#sk-container-id-2 label.sk-toggleable__label-arrow:before {content: \"▸\";float: left;margin-right: 0.25em;color: #696969;}#sk-container-id-2 label.sk-toggleable__label-arrow:hover:before {color: black;}#sk-container-id-2 div.sk-estimator:hover label.sk-toggleable__label-arrow:before {color: black;}#sk-container-id-2 div.sk-toggleable__content {max-height: 0;max-width: 0;overflow: hidden;text-align: left;background-color: #f0f8ff;}#sk-container-id-2 div.sk-toggleable__content pre {margin: 0.2em;color: black;border-radius: 0.25em;background-color: #f0f8ff;}#sk-container-id-2 input.sk-toggleable__control:checked~div.sk-toggleable__content {max-height: 200px;max-width: 100%;overflow: auto;}#sk-container-id-2 input.sk-toggleable__control:checked~label.sk-toggleable__label-arrow:before {content: \"▾\";}#sk-container-id-2 div.sk-estimator input.sk-toggleable__control:checked~label.sk-toggleable__label {background-color: #d4ebff;}#sk-container-id-2 div.sk-label input.sk-toggleable__control:checked~label.sk-toggleable__label {background-color: #d4ebff;}#sk-container-id-2 input.sk-hidden--visually {border: 0;clip: rect(1px 1px 1px 1px);clip: rect(1px, 1px, 1px, 1px);height: 1px;margin: -1px;overflow: hidden;padding: 0;position: absolute;width: 1px;}#sk-container-id-2 div.sk-estimator {font-family: monospace;background-color: #f0f8ff;border: 1px dotted black;border-radius: 0.25em;box-sizing: border-box;margin-bottom: 0.5em;}#sk-container-id-2 div.sk-estimator:hover {background-color: #d4ebff;}#sk-container-id-2 div.sk-parallel-item::after {content: \"\";width: 100%;border-bottom: 1px solid gray;flex-grow: 1;}#sk-container-id-2 div.sk-label:hover label.sk-toggleable__label {background-color: #d4ebff;}#sk-container-id-2 div.sk-serial::before {content: \"\";position: absolute;border-left: 1px solid gray;box-sizing: border-box;top: 0;bottom: 0;left: 50%;z-index: 0;}#sk-container-id-2 div.sk-serial {display: flex;flex-direction: column;align-items: center;background-color: white;padding-right: 0.2em;padding-left: 0.2em;position: relative;}#sk-container-id-2 div.sk-item {position: relative;z-index: 1;}#sk-container-id-2 div.sk-parallel {display: flex;align-items: stretch;justify-content: center;background-color: white;position: relative;}#sk-container-id-2 div.sk-item::before, #sk-container-id-2 div.sk-parallel-item::before {content: \"\";position: absolute;border-left: 1px solid gray;box-sizing: border-box;top: 0;bottom: 0;left: 50%;z-index: -1;}#sk-container-id-2 div.sk-parallel-item {display: flex;flex-direction: column;z-index: 1;position: relative;background-color: white;}#sk-container-id-2 div.sk-parallel-item:first-child::after {align-self: flex-end;width: 50%;}#sk-container-id-2 div.sk-parallel-item:last-child::after {align-self: flex-start;width: 50%;}#sk-container-id-2 div.sk-parallel-item:only-child::after {width: 0;}#sk-container-id-2 div.sk-dashed-wrapped {border: 1px dashed gray;margin: 0 0.4em 0.5em 0.4em;box-sizing: border-box;padding-bottom: 0.4em;background-color: white;}#sk-container-id-2 div.sk-label label {font-family: monospace;font-weight: bold;display: inline-block;line-height: 1.2em;}#sk-container-id-2 div.sk-label-container {text-align: center;}#sk-container-id-2 div.sk-container {/* jupyter's `normalize.less` sets `[hidden] { display: none; }` but bootstrap.min.css set `[hidden] { display: none !important; }` so we also need the `!important` here to be able to override the default hidden behavior on the sphinx rendered scikit-learn.org. See: https://github.com/scikit-learn/scikit-learn/issues/21755 */display: inline-block !important;position: relative;}#sk-container-id-2 div.sk-text-repr-fallback {display: none;}</style><div id=\"sk-container-id-2\" class=\"sk-top-container\"><div class=\"sk-text-repr-fallback\"><pre>RandomForestRegressor(max_depth=20, n_estimators=200)</pre><b>In a Jupyter environment, please rerun this cell to show the HTML representation or trust the notebook. <br />On GitHub, the HTML representation is unable to render, please try loading this page with nbviewer.org.</b></div><div class=\"sk-container\" hidden><div class=\"sk-item\"><div class=\"sk-estimator sk-toggleable\"><input class=\"sk-toggleable__control sk-hidden--visually\" id=\"sk-estimator-id-2\" type=\"checkbox\" checked><label for=\"sk-estimator-id-2\" class=\"sk-toggleable__label sk-toggleable__label-arrow\">RandomForestRegressor</label><div class=\"sk-toggleable__content\"><pre>RandomForestRegressor(max_depth=20, n_estimators=200)</pre></div></div></div></div></div>"
      ],
      "text/plain": [
       "RandomForestRegressor(max_depth=20, n_estimators=200)"
      ]
     },
     "execution_count": 16,
     "metadata": {},
     "output_type": "execute_result"
    }
   ],
   "source": [
    "rf = RandomForestRegressor(n_estimators=200, max_depth=20)\n",
    "rf.fit(X_train, y_train)"
   ]
  },
  {
   "cell_type": "markdown",
   "metadata": {},
   "source": [
    "#### Results"
   ]
  },
  {
   "cell_type": "code",
   "execution_count": 17,
   "metadata": {},
   "outputs": [],
   "source": [
    "train_pred = rf.predict(X_train).flatten()\n",
    "test_pred = rf.predict(X_test).flatten()"
   ]
  },
  {
   "cell_type": "code",
   "execution_count": 18,
   "metadata": {},
   "outputs": [],
   "source": [
    "# sort the data by date for plotting\n",
    "train_dates = X_train.index.to_series().sort_values()\n",
    "test_dates = X_test.index.to_series().sort_values()"
   ]
  },
  {
   "cell_type": "code",
   "execution_count": 19,
   "metadata": {},
   "outputs": [
    {
     "name": "stdout",
     "output_type": "stream",
     "text": [
      "Train Score: 1.46 RMSE\n",
      "Test Score: 4.17 RMSE\n"
     ]
    }
   ],
   "source": [
    "trainScore = np.sqrt(mean_squared_error(y_train, train_pred))\n",
    "print(\"Train Score: %.2f RMSE\" % (trainScore))\n",
    "testScore = np.sqrt(mean_squared_error(y_test, test_pred))\n",
    "print(\"Test Score: %.2f RMSE\" % (testScore))"
   ]
  },
  {
   "cell_type": "markdown",
   "metadata": {
    "tags": []
   },
   "source": [
    "### LSTM"
   ]
  },
  {
   "cell_type": "code",
   "execution_count": 20,
   "metadata": {},
   "outputs": [
    {
     "name": "stderr",
     "output_type": "stream",
     "text": [
      "2023-04-29 23:37:43.324217: I tensorflow/core/platform/cpu_feature_guard.cc:193] This TensorFlow binary is optimized with oneAPI Deep Neural Network Library (oneDNN) to use the following CPU instructions in performance-critical operations:  AVX2 FMA\n",
      "To enable them in other operations, rebuild TensorFlow with the appropriate compiler flags.\n",
      "2023-04-29 23:37:43.403620: W tensorflow/compiler/xla/stream_executor/platform/default/dso_loader.cc:64] Could not load dynamic library 'libcudart.so.11.0'; dlerror: libcudart.so.11.0: cannot open shared object file: No such file or directory\n",
      "2023-04-29 23:37:43.403631: I tensorflow/compiler/xla/stream_executor/cuda/cudart_stub.cc:29] Ignore above cudart dlerror if you do not have a GPU set up on your machine.\n",
      "2023-04-29 23:37:43.809997: W tensorflow/compiler/xla/stream_executor/platform/default/dso_loader.cc:64] Could not load dynamic library 'libnvinfer.so.7'; dlerror: libnvinfer.so.7: cannot open shared object file: No such file or directory\n",
      "2023-04-29 23:37:43.810044: W tensorflow/compiler/xla/stream_executor/platform/default/dso_loader.cc:64] Could not load dynamic library 'libnvinfer_plugin.so.7'; dlerror: libnvinfer_plugin.so.7: cannot open shared object file: No such file or directory\n",
      "2023-04-29 23:37:43.810048: W tensorflow/compiler/tf2tensorrt/utils/py_utils.cc:38] TF-TRT Warning: Cannot dlopen some TensorRT libraries. If you would like to use Nvidia GPU with TensorRT, please make sure the missing libraries mentioned above are installed properly.\n"
     ]
    }
   ],
   "source": [
    "from tensorflow.keras.models import Sequential\n",
    "from tensorflow.keras.optimizers import Adam\n",
    "from tensorflow.keras import layers"
   ]
  },
  {
   "cell_type": "markdown",
   "metadata": {},
   "source": [
    "#### Training"
   ]
  },
  {
   "cell_type": "code",
   "execution_count": 21,
   "metadata": {
    "papermill": {
     "duration": 0.04566,
     "end_time": "2021-03-22T16:59:27.557309",
     "exception": false,
     "start_time": "2021-03-22T16:59:27.511649",
     "status": "completed"
    },
    "tags": []
   },
   "outputs": [
    {
     "data": {
      "text/html": [
       "<div>\n",
       "<style scoped>\n",
       "    .dataframe tbody tr th:only-of-type {\n",
       "        vertical-align: middle;\n",
       "    }\n",
       "\n",
       "    .dataframe tbody tr th {\n",
       "        vertical-align: top;\n",
       "    }\n",
       "\n",
       "    .dataframe thead th {\n",
       "        text-align: right;\n",
       "    }\n",
       "</style>\n",
       "<table border=\"1\" class=\"dataframe\">\n",
       "  <thead>\n",
       "    <tr style=\"text-align: right;\">\n",
       "      <th></th>\n",
       "      <th>Target Date</th>\n",
       "      <th>Target-3</th>\n",
       "      <th>Target-2</th>\n",
       "      <th>Target-1</th>\n",
       "      <th>Target</th>\n",
       "    </tr>\n",
       "  </thead>\n",
       "  <tbody>\n",
       "    <tr>\n",
       "      <th>0</th>\n",
       "      <td>1997-07-01</td>\n",
       "      <td>0.075521</td>\n",
       "      <td>0.074479</td>\n",
       "      <td>0.077083</td>\n",
       "      <td>0.075781</td>\n",
       "    </tr>\n",
       "    <tr>\n",
       "      <th>1</th>\n",
       "      <td>1997-07-02</td>\n",
       "      <td>0.074479</td>\n",
       "      <td>0.077083</td>\n",
       "      <td>0.075781</td>\n",
       "      <td>0.079427</td>\n",
       "    </tr>\n",
       "    <tr>\n",
       "      <th>2</th>\n",
       "      <td>1997-07-03</td>\n",
       "      <td>0.077083</td>\n",
       "      <td>0.075781</td>\n",
       "      <td>0.079427</td>\n",
       "      <td>0.095573</td>\n",
       "    </tr>\n",
       "    <tr>\n",
       "      <th>3</th>\n",
       "      <td>1997-07-07</td>\n",
       "      <td>0.075781</td>\n",
       "      <td>0.079427</td>\n",
       "      <td>0.095573</td>\n",
       "      <td>0.100000</td>\n",
       "    </tr>\n",
       "    <tr>\n",
       "      <th>4</th>\n",
       "      <td>1997-07-08</td>\n",
       "      <td>0.079427</td>\n",
       "      <td>0.095573</td>\n",
       "      <td>0.100000</td>\n",
       "      <td>0.115104</td>\n",
       "    </tr>\n",
       "    <tr>\n",
       "      <th>...</th>\n",
       "      <td>...</td>\n",
       "      <td>...</td>\n",
       "      <td>...</td>\n",
       "      <td>...</td>\n",
       "      <td>...</td>\n",
       "    </tr>\n",
       "    <tr>\n",
       "      <th>6371</th>\n",
       "      <td>2022-10-24</td>\n",
       "      <td>115.070000</td>\n",
       "      <td>115.250000</td>\n",
       "      <td>119.320000</td>\n",
       "      <td>119.820000</td>\n",
       "    </tr>\n",
       "    <tr>\n",
       "      <th>6372</th>\n",
       "      <td>2022-10-25</td>\n",
       "      <td>115.250000</td>\n",
       "      <td>119.320000</td>\n",
       "      <td>119.820000</td>\n",
       "      <td>120.599998</td>\n",
       "    </tr>\n",
       "    <tr>\n",
       "      <th>6373</th>\n",
       "      <td>2022-10-26</td>\n",
       "      <td>119.320000</td>\n",
       "      <td>119.820000</td>\n",
       "      <td>120.599998</td>\n",
       "      <td>115.660004</td>\n",
       "    </tr>\n",
       "    <tr>\n",
       "      <th>6374</th>\n",
       "      <td>2022-10-27</td>\n",
       "      <td>119.820000</td>\n",
       "      <td>120.599998</td>\n",
       "      <td>115.660004</td>\n",
       "      <td>110.959999</td>\n",
       "    </tr>\n",
       "    <tr>\n",
       "      <th>6375</th>\n",
       "      <td>2022-10-28</td>\n",
       "      <td>120.599998</td>\n",
       "      <td>115.660004</td>\n",
       "      <td>110.959999</td>\n",
       "      <td>103.410004</td>\n",
       "    </tr>\n",
       "  </tbody>\n",
       "</table>\n",
       "<p>6376 rows × 5 columns</p>\n",
       "</div>"
      ],
      "text/plain": [
       "     Target Date    Target-3    Target-2    Target-1      Target\n",
       "0     1997-07-01    0.075521    0.074479    0.077083    0.075781\n",
       "1     1997-07-02    0.074479    0.077083    0.075781    0.079427\n",
       "2     1997-07-03    0.077083    0.075781    0.079427    0.095573\n",
       "3     1997-07-07    0.075781    0.079427    0.095573    0.100000\n",
       "4     1997-07-08    0.079427    0.095573    0.100000    0.115104\n",
       "...          ...         ...         ...         ...         ...\n",
       "6371  2022-10-24  115.070000  115.250000  119.320000  119.820000\n",
       "6372  2022-10-25  115.250000  119.320000  119.820000  120.599998\n",
       "6373  2022-10-26  119.320000  119.820000  120.599998  115.660004\n",
       "6374  2022-10-27  119.820000  120.599998  115.660004  110.959999\n",
       "6375  2022-10-28  120.599998  115.660004  110.959999  103.410004\n",
       "\n",
       "[6376 rows x 5 columns]"
      ]
     },
     "execution_count": 21,
     "metadata": {},
     "output_type": "execute_result"
    }
   ],
   "source": [
    "windowed_df = df_to_windowed_df(df, n=3)\n",
    "windowed_df"
   ]
  },
  {
   "cell_type": "code",
   "execution_count": 22,
   "metadata": {},
   "outputs": [
    {
     "data": {
      "text/plain": [
       "((6376,), (6376, 3, 1), (6376,))"
      ]
     },
     "execution_count": 22,
     "metadata": {},
     "output_type": "execute_result"
    }
   ],
   "source": [
    "dates, X, y = windowed_df_to_date_X_y(windowed_df)\n",
    "dates.shape, X.shape, y.shape"
   ]
  },
  {
   "cell_type": "code",
   "execution_count": 23,
   "metadata": {},
   "outputs": [],
   "source": [
    "q_80 = int(len(dates) * .8)\n",
    "q_90 = int(len(dates) * .9)\n",
    "\n",
    "dates_train, X_train, y_train = dates[:q_80], X[:q_80], y[:q_80]\n",
    "dates_val, X_val, y_val = dates[q_80:q_90], X[q_80:q_90], y[q_80:q_90]\n",
    "dates_test, X_test, y_test = dates[q_90:], X[q_90:], y[q_90:]"
   ]
  },
  {
   "cell_type": "code",
   "execution_count": 24,
   "metadata": {},
   "outputs": [
    {
     "data": {
      "text/plain": [
       "<matplotlib.legend.Legend at 0x7fa8191a1b10>"
      ]
     },
     "execution_count": 24,
     "metadata": {},
     "output_type": "execute_result"
    },
    {
     "data": {
      "image/png": "[encoded data removed]",
      "text/plain": [
       "<Figure size 640x480 with 1 Axes>"
      ]
     },
     "metadata": {},
     "output_type": "display_data"
    }
   ],
   "source": [
    "plt.plot(dates_train, y_train)\n",
    "plt.plot(dates_val, y_val)\n",
    "plt.plot(dates_test, y_test)\n",
    "plt.legend(['Train', 'Validation', 'Test'])"
   ]
  },
  {
   "cell_type": "code",
   "execution_count": 25,
   "metadata": {},
   "outputs": [
    {
     "name": "stderr",
     "output_type": "stream",
     "text": [
      "2023-04-29 23:37:45.950943: I tensorflow/compiler/xla/stream_executor/cuda/cuda_gpu_executor.cc:981] successful NUMA node read from SysFS had negative value (-1), but there must be at least one NUMA node, so returning NUMA node zero\n",
      "2023-04-29 23:37:45.951075: W tensorflow/compiler/xla/stream_executor/platform/default/dso_loader.cc:64] Could not load dynamic library 'libcudart.so.11.0'; dlerror: libcudart.so.11.0: cannot open shared object file: No such file or directory\n",
      "2023-04-29 23:37:45.951114: W tensorflow/compiler/xla/stream_executor/platform/default/dso_loader.cc:64] Could not load dynamic library 'libcublas.so.11'; dlerror: libcublas.so.11: cannot open shared object file: No such file or directory\n",
      "2023-04-29 23:37:45.951150: W tensorflow/compiler/xla/stream_executor/platform/default/dso_loader.cc:64] Could not load dynamic library 'libcublasLt.so.11'; dlerror: libcublasLt.so.11: cannot open shared object file: No such file or directory\n",
      "2023-04-29 23:37:45.951186: W tensorflow/compiler/xla/stream_executor/platform/default/dso_loader.cc:64] Could not load dynamic library 'libcufft.so.10'; dlerror: libcufft.so.10: cannot open shared object file: No such file or directory\n",
      "2023-04-29 23:37:45.962194: W tensorflow/compiler/xla/stream_executor/platform/default/dso_loader.cc:64] Could not load dynamic library 'libcusparse.so.11'; dlerror: libcusparse.so.11: cannot open shared object file: No such file or directory\n",
      "2023-04-29 23:37:45.962342: W tensorflow/core/common_runtime/gpu/gpu_device.cc:1934] Cannot dlopen some GPU libraries. Please make sure the missing libraries mentioned above are installed properly if you would like to use GPU. Follow the guide at https://www.tensorflow.org/install/gpu for how to download and setup the required libraries for your platform.\n",
      "Skipping registering GPU devices...\n",
      "2023-04-29 23:37:45.962692: I tensorflow/core/platform/cpu_feature_guard.cc:193] This TensorFlow binary is optimized with oneAPI Deep Neural Network Library (oneDNN) to use the following CPU instructions in performance-critical operations:  AVX2 FMA\n",
      "To enable them in other operations, rebuild TensorFlow with the appropriate compiler flags.\n"
     ]
    },
    {
     "name": "stdout",
     "output_type": "stream",
     "text": [
      "Epoch 1/100\n",
      "160/160 [==============================] - 2s 3ms/step - loss: 62.4202 - mean_absolute_error: 3.1714 - val_loss: 1378.9886 - val_mean_absolute_error: 34.7253\n",
      "Epoch 2/100\n",
      "160/160 [==============================] - 0s 2ms/step - loss: 0.1281 - mean_absolute_error: 0.1923 - val_loss: 1188.8518 - val_mean_absolute_error: 31.9283\n",
      "Epoch 3/100\n",
      "160/160 [==============================] - 0s 2ms/step - loss: 0.0862 - mean_absolute_error: 0.1604 - val_loss: 1133.5568 - val_mean_absolute_error: 31.0867\n",
      "Epoch 4/100\n",
      "160/160 [==============================] - 0s 2ms/step - loss: 0.0976 - mean_absolute_error: 0.1708 - val_loss: 1114.8043 - val_mean_absolute_error: 30.7729\n",
      "Epoch 5/100\n",
      "160/160 [==============================] - 0s 2ms/step - loss: 0.0948 - mean_absolute_error: 0.1725 - val_loss: 1102.5833 - val_mean_absolute_error: 30.6044\n",
      "Epoch 6/100\n",
      "160/160 [==============================] - 1s 3ms/step - loss: 0.0938 - mean_absolute_error: 0.1674 - val_loss: 1097.8635 - val_mean_absolute_error: 30.5243\n",
      "Epoch 7/100\n",
      "160/160 [==============================] - 0s 2ms/step - loss: 0.1009 - mean_absolute_error: 0.1797 - val_loss: 1094.7826 - val_mean_absolute_error: 30.4385\n",
      "Epoch 8/100\n",
      "160/160 [==============================] - 0s 2ms/step - loss: 0.0787 - mean_absolute_error: 0.1557 - val_loss: 1084.6744 - val_mean_absolute_error: 30.2776\n",
      "Epoch 9/100\n",
      "160/160 [==============================] - 0s 2ms/step - loss: 0.0969 - mean_absolute_error: 0.1731 - val_loss: 1091.7969 - val_mean_absolute_error: 30.3875\n",
      "Epoch 10/100\n",
      "160/160 [==============================] - 0s 2ms/step - loss: 0.1063 - mean_absolute_error: 0.1844 - val_loss: 1113.4331 - val_mean_absolute_error: 30.7443\n",
      "Epoch 11/100\n",
      "160/160 [==============================] - 0s 2ms/step - loss: 0.0879 - mean_absolute_error: 0.1646 - val_loss: 1085.6864 - val_mean_absolute_error: 30.2734\n",
      "Epoch 12/100\n",
      "160/160 [==============================] - 0s 3ms/step - loss: 0.0903 - mean_absolute_error: 0.1659 - val_loss: 1100.0872 - val_mean_absolute_error: 30.4855\n",
      "Epoch 13/100\n",
      "160/160 [==============================] - 0s 2ms/step - loss: 0.0993 - mean_absolute_error: 0.1750 - val_loss: 1117.4756 - val_mean_absolute_error: 30.7516\n",
      "Epoch 14/100\n",
      "160/160 [==============================] - 1s 3ms/step - loss: 0.0906 - mean_absolute_error: 0.1640 - val_loss: 1091.6609 - val_mean_absolute_error: 30.3269\n",
      "Epoch 15/100\n",
      "160/160 [==============================] - 1s 3ms/step - loss: 0.0916 - mean_absolute_error: 0.1669 - val_loss: 1086.7008 - val_mean_absolute_error: 30.2485\n",
      "Epoch 16/100\n",
      "160/160 [==============================] - 0s 3ms/step - loss: 0.1079 - mean_absolute_error: 0.1776 - val_loss: 1150.3335 - val_mean_absolute_error: 31.1861\n",
      "Epoch 17/100\n",
      "160/160 [==============================] - 0s 2ms/step - loss: 0.1252 - mean_absolute_error: 0.1956 - val_loss: 1104.8077 - val_mean_absolute_error: 30.5026\n",
      "Epoch 18/100\n",
      "160/160 [==============================] - 0s 2ms/step - loss: 0.0948 - mean_absolute_error: 0.1698 - val_loss: 1111.8918 - val_mean_absolute_error: 30.6034\n",
      "Epoch 19/100\n",
      "160/160 [==============================] - 0s 3ms/step - loss: 0.0797 - mean_absolute_error: 0.1534 - val_loss: 1124.5817 - val_mean_absolute_error: 30.8618\n",
      "Epoch 20/100\n",
      "160/160 [==============================] - 0s 2ms/step - loss: 0.1051 - mean_absolute_error: 0.1797 - val_loss: 1097.9478 - val_mean_absolute_error: 30.3490\n",
      "Epoch 21/100\n",
      "160/160 [==============================] - 0s 2ms/step - loss: 0.0847 - mean_absolute_error: 0.1605 - val_loss: 1072.4678 - val_mean_absolute_error: 29.9294\n",
      "Epoch 22/100\n",
      "160/160 [==============================] - 0s 2ms/step - loss: 0.0764 - mean_absolute_error: 0.1515 - val_loss: 1103.4043 - val_mean_absolute_error: 30.4330\n",
      "Epoch 23/100\n",
      "160/160 [==============================] - 0s 2ms/step - loss: 0.0878 - mean_absolute_error: 0.1620 - val_loss: 1113.9067 - val_mean_absolute_error: 30.6390\n",
      "Epoch 24/100\n",
      "160/160 [==============================] - 0s 2ms/step - loss: 0.0762 - mean_absolute_error: 0.1502 - val_loss: 1099.8846 - val_mean_absolute_error: 30.3682\n",
      "Epoch 25/100\n",
      "160/160 [==============================] - 0s 2ms/step - loss: 0.0873 - mean_absolute_error: 0.1645 - val_loss: 1092.4911 - val_mean_absolute_error: 30.2480\n",
      "Epoch 26/100\n",
      "160/160 [==============================] - 0s 2ms/step - loss: 0.0934 - mean_absolute_error: 0.1697 - val_loss: 1063.7269 - val_mean_absolute_error: 29.7770\n",
      "Epoch 27/100\n",
      "160/160 [==============================] - 0s 2ms/step - loss: 0.0940 - mean_absolute_error: 0.1710 - val_loss: 1047.1329 - val_mean_absolute_error: 29.4977\n",
      "Epoch 28/100\n",
      "160/160 [==============================] - 0s 2ms/step - loss: 0.0929 - mean_absolute_error: 0.1736 - val_loss: 1052.3459 - val_mean_absolute_error: 29.5911\n",
      "Epoch 29/100\n",
      "160/160 [==============================] - 0s 2ms/step - loss: 0.0815 - mean_absolute_error: 0.1568 - val_loss: 1060.2050 - val_mean_absolute_error: 29.7079\n",
      "Epoch 30/100\n",
      "160/160 [==============================] - 0s 2ms/step - loss: 0.0763 - mean_absolute_error: 0.1499 - val_loss: 1064.0236 - val_mean_absolute_error: 29.7874\n",
      "Epoch 31/100\n",
      "160/160 [==============================] - 0s 2ms/step - loss: 0.0820 - mean_absolute_error: 0.1600 - val_loss: 1051.4810 - val_mean_absolute_error: 29.5888\n",
      "Epoch 32/100\n",
      "160/160 [==============================] - 0s 2ms/step - loss: 0.1013 - mean_absolute_error: 0.1723 - val_loss: 1095.7983 - val_mean_absolute_error: 30.2865\n",
      "Epoch 33/100\n",
      "160/160 [==============================] - 0s 2ms/step - loss: 0.0900 - mean_absolute_error: 0.1656 - val_loss: 1124.0548 - val_mean_absolute_error: 30.6594\n",
      "Epoch 34/100\n",
      "160/160 [==============================] - 0s 2ms/step - loss: 0.1103 - mean_absolute_error: 0.1793 - val_loss: 1152.7980 - val_mean_absolute_error: 31.0974\n",
      "Epoch 35/100\n",
      "160/160 [==============================] - 1s 3ms/step - loss: 0.0752 - mean_absolute_error: 0.1511 - val_loss: 1047.9220 - val_mean_absolute_error: 29.4568\n",
      "Epoch 36/100\n",
      "160/160 [==============================] - 1s 3ms/step - loss: 0.0786 - mean_absolute_error: 0.1533 - val_loss: 1038.2561 - val_mean_absolute_error: 29.4483\n",
      "Epoch 37/100\n",
      "160/160 [==============================] - 1s 3ms/step - loss: 0.0797 - mean_absolute_error: 0.1557 - val_loss: 1066.6819 - val_mean_absolute_error: 29.7533\n",
      "Epoch 38/100\n",
      "160/160 [==============================] - 0s 3ms/step - loss: 0.0912 - mean_absolute_error: 0.1669 - val_loss: 1060.0295 - val_mean_absolute_error: 29.7665\n",
      "Epoch 39/100\n",
      "160/160 [==============================] - 0s 3ms/step - loss: 0.0815 - mean_absolute_error: 0.1598 - val_loss: 1040.5132 - val_mean_absolute_error: 29.3777\n",
      "Epoch 40/100\n",
      "160/160 [==============================] - 0s 2ms/step - loss: 0.0985 - mean_absolute_error: 0.1706 - val_loss: 1082.2172 - val_mean_absolute_error: 30.0211\n",
      "Epoch 41/100\n",
      "160/160 [==============================] - 0s 2ms/step - loss: 0.0872 - mean_absolute_error: 0.1613 - val_loss: 997.8944 - val_mean_absolute_error: 28.8018\n",
      "Epoch 42/100\n",
      "160/160 [==============================] - 0s 2ms/step - loss: 0.1095 - mean_absolute_error: 0.1807 - val_loss: 1075.3718 - val_mean_absolute_error: 29.9193\n",
      "Epoch 43/100\n",
      "160/160 [==============================] - 0s 2ms/step - loss: 0.0723 - mean_absolute_error: 0.1478 - val_loss: 1022.1934 - val_mean_absolute_error: 29.0703\n",
      "Epoch 44/100\n",
      "160/160 [==============================] - 0s 2ms/step - loss: 0.0841 - mean_absolute_error: 0.1584 - val_loss: 1051.9561 - val_mean_absolute_error: 29.5610\n",
      "Epoch 45/100\n",
      "160/160 [==============================] - 0s 2ms/step - loss: 0.0903 - mean_absolute_error: 0.1686 - val_loss: 1019.8000 - val_mean_absolute_error: 29.0372\n",
      "Epoch 46/100\n",
      "160/160 [==============================] - 0s 2ms/step - loss: 0.0937 - mean_absolute_error: 0.1714 - val_loss: 1122.1262 - val_mean_absolute_error: 30.6078\n",
      "Epoch 47/100\n",
      "160/160 [==============================] - 0s 2ms/step - loss: 0.0901 - mean_absolute_error: 0.1639 - val_loss: 1037.9960 - val_mean_absolute_error: 29.3554\n",
      "Epoch 48/100\n",
      "160/160 [==============================] - 0s 2ms/step - loss: 0.0796 - mean_absolute_error: 0.1529 - val_loss: 1119.1061 - val_mean_absolute_error: 30.6739\n",
      "Epoch 49/100\n",
      "160/160 [==============================] - 0s 2ms/step - loss: 0.1057 - mean_absolute_error: 0.1777 - val_loss: 1033.7344 - val_mean_absolute_error: 29.2302\n",
      "Epoch 50/100\n",
      "160/160 [==============================] - 0s 2ms/step - loss: 0.0770 - mean_absolute_error: 0.1521 - val_loss: 1002.5790 - val_mean_absolute_error: 28.7510\n",
      "Epoch 51/100\n",
      "160/160 [==============================] - 0s 2ms/step - loss: 0.0727 - mean_absolute_error: 0.1462 - val_loss: 960.7439 - val_mean_absolute_error: 28.1095\n",
      "Epoch 52/100\n",
      "160/160 [==============================] - 0s 2ms/step - loss: 0.0835 - mean_absolute_error: 0.1602 - val_loss: 977.7824 - val_mean_absolute_error: 28.3710\n",
      "Epoch 53/100\n",
      "160/160 [==============================] - 0s 2ms/step - loss: 0.0769 - mean_absolute_error: 0.1522 - val_loss: 999.7656 - val_mean_absolute_error: 28.7709\n",
      "Epoch 54/100\n",
      "160/160 [==============================] - 0s 2ms/step - loss: 0.0757 - mean_absolute_error: 0.1512 - val_loss: 974.4027 - val_mean_absolute_error: 28.3652\n",
      "Epoch 55/100\n",
      "160/160 [==============================] - 0s 2ms/step - loss: 0.0923 - mean_absolute_error: 0.1696 - val_loss: 991.5228 - val_mean_absolute_error: 28.6221\n",
      "Epoch 56/100\n",
      "160/160 [==============================] - 0s 2ms/step - loss: 0.0820 - mean_absolute_error: 0.1557 - val_loss: 914.4134 - val_mean_absolute_error: 27.3383\n",
      "Epoch 57/100\n",
      "160/160 [==============================] - 0s 2ms/step - loss: 0.1042 - mean_absolute_error: 0.1784 - val_loss: 979.5191 - val_mean_absolute_error: 28.5233\n",
      "Epoch 58/100\n",
      "160/160 [==============================] - 0s 2ms/step - loss: 0.0785 - mean_absolute_error: 0.1526 - val_loss: 1052.4740 - val_mean_absolute_error: 29.5592\n",
      "Epoch 59/100\n",
      "160/160 [==============================] - 0s 2ms/step - loss: 0.0834 - mean_absolute_error: 0.1597 - val_loss: 1104.3552 - val_mean_absolute_error: 30.3938\n",
      "Epoch 60/100\n",
      "160/160 [==============================] - 0s 2ms/step - loss: 0.0874 - mean_absolute_error: 0.1603 - val_loss: 929.3829 - val_mean_absolute_error: 27.5996\n",
      "Epoch 61/100\n",
      "160/160 [==============================] - 0s 2ms/step - loss: 0.0773 - mean_absolute_error: 0.1501 - val_loss: 955.6180 - val_mean_absolute_error: 28.0624\n",
      "Epoch 62/100\n",
      "160/160 [==============================] - 0s 2ms/step - loss: 0.0779 - mean_absolute_error: 0.1533 - val_loss: 931.4448 - val_mean_absolute_error: 27.6156\n",
      "Epoch 63/100\n",
      "160/160 [==============================] - 0s 2ms/step - loss: 0.0834 - mean_absolute_error: 0.1568 - val_loss: 958.8099 - val_mean_absolute_error: 28.1448\n",
      "Epoch 64/100\n",
      "160/160 [==============================] - 0s 2ms/step - loss: 0.0812 - mean_absolute_error: 0.1571 - val_loss: 911.4267 - val_mean_absolute_error: 27.3588\n",
      "Epoch 65/100\n",
      "160/160 [==============================] - 0s 2ms/step - loss: 0.0915 - mean_absolute_error: 0.1650 - val_loss: 943.3352 - val_mean_absolute_error: 27.9116\n",
      "Epoch 66/100\n",
      "160/160 [==============================] - 0s 2ms/step - loss: 0.1022 - mean_absolute_error: 0.1766 - val_loss: 904.5847 - val_mean_absolute_error: 27.2384\n",
      "Epoch 67/100\n",
      "160/160 [==============================] - 0s 2ms/step - loss: 0.0754 - mean_absolute_error: 0.1484 - val_loss: 1011.8793 - val_mean_absolute_error: 28.9911\n",
      "Epoch 68/100\n",
      "160/160 [==============================] - 0s 2ms/step - loss: 0.0823 - mean_absolute_error: 0.1599 - val_loss: 935.3005 - val_mean_absolute_error: 27.7826\n",
      "Epoch 69/100\n",
      "160/160 [==============================] - 0s 2ms/step - loss: 0.0775 - mean_absolute_error: 0.1505 - val_loss: 896.0829 - val_mean_absolute_error: 27.1617\n",
      "Epoch 70/100\n",
      "160/160 [==============================] - 0s 2ms/step - loss: 0.0844 - mean_absolute_error: 0.1616 - val_loss: 863.4757 - val_mean_absolute_error: 26.6021\n",
      "Epoch 71/100\n",
      "160/160 [==============================] - 0s 2ms/step - loss: 0.1094 - mean_absolute_error: 0.1814 - val_loss: 898.3975 - val_mean_absolute_error: 27.1805\n",
      "Epoch 72/100\n",
      "160/160 [==============================] - 0s 2ms/step - loss: 0.0781 - mean_absolute_error: 0.1515 - val_loss: 882.0078 - val_mean_absolute_error: 26.8988\n",
      "Epoch 73/100\n",
      "160/160 [==============================] - 0s 2ms/step - loss: 0.0813 - mean_absolute_error: 0.1562 - val_loss: 881.5637 - val_mean_absolute_error: 26.8629\n",
      "Epoch 74/100\n",
      "160/160 [==============================] - 0s 2ms/step - loss: 0.0832 - mean_absolute_error: 0.1560 - val_loss: 905.9900 - val_mean_absolute_error: 27.2864\n",
      "Epoch 75/100\n",
      "160/160 [==============================] - 0s 2ms/step - loss: 0.0853 - mean_absolute_error: 0.1615 - val_loss: 909.3677 - val_mean_absolute_error: 27.3517\n",
      "Epoch 76/100\n",
      "160/160 [==============================] - 0s 2ms/step - loss: 0.0826 - mean_absolute_error: 0.1574 - val_loss: 855.9399 - val_mean_absolute_error: 26.4109\n",
      "Epoch 77/100\n",
      "160/160 [==============================] - 0s 2ms/step - loss: 0.0805 - mean_absolute_error: 0.1542 - val_loss: 939.0725 - val_mean_absolute_error: 27.8240\n",
      "Epoch 78/100\n",
      "160/160 [==============================] - 0s 2ms/step - loss: 0.0862 - mean_absolute_error: 0.1563 - val_loss: 845.8986 - val_mean_absolute_error: 26.3125\n",
      "Epoch 79/100\n",
      "160/160 [==============================] - 0s 2ms/step - loss: 0.0893 - mean_absolute_error: 0.1667 - val_loss: 848.7550 - val_mean_absolute_error: 26.3000\n",
      "Epoch 80/100\n",
      "160/160 [==============================] - 0s 2ms/step - loss: 0.0768 - mean_absolute_error: 0.1510 - val_loss: 799.6631 - val_mean_absolute_error: 25.4528\n",
      "Epoch 81/100\n",
      "160/160 [==============================] - 0s 2ms/step - loss: 0.0958 - mean_absolute_error: 0.1677 - val_loss: 820.7328 - val_mean_absolute_error: 25.9070\n",
      "Epoch 82/100\n",
      "160/160 [==============================] - 0s 2ms/step - loss: 0.1093 - mean_absolute_error: 0.1754 - val_loss: 869.4817 - val_mean_absolute_error: 26.6962\n",
      "Epoch 83/100\n",
      "160/160 [==============================] - 0s 2ms/step - loss: 0.0896 - mean_absolute_error: 0.1602 - val_loss: 903.3421 - val_mean_absolute_error: 27.3193\n",
      "Epoch 84/100\n",
      "160/160 [==============================] - 0s 2ms/step - loss: 0.0829 - mean_absolute_error: 0.1618 - val_loss: 852.9364 - val_mean_absolute_error: 26.4540\n",
      "Epoch 85/100\n",
      "160/160 [==============================] - 0s 2ms/step - loss: 0.0778 - mean_absolute_error: 0.1522 - val_loss: 837.1913 - val_mean_absolute_error: 26.1976\n",
      "Epoch 86/100\n",
      "160/160 [==============================] - 0s 2ms/step - loss: 0.0854 - mean_absolute_error: 0.1597 - val_loss: 865.4806 - val_mean_absolute_error: 26.6687\n",
      "Epoch 87/100\n",
      "160/160 [==============================] - 0s 2ms/step - loss: 0.0703 - mean_absolute_error: 0.1429 - val_loss: 838.7280 - val_mean_absolute_error: 26.1903\n",
      "Epoch 88/100\n",
      "160/160 [==============================] - 0s 2ms/step - loss: 0.0730 - mean_absolute_error: 0.1471 - val_loss: 859.2955 - val_mean_absolute_error: 26.5050\n",
      "Epoch 89/100\n",
      "160/160 [==============================] - 0s 2ms/step - loss: 0.0757 - mean_absolute_error: 0.1496 - val_loss: 790.4081 - val_mean_absolute_error: 25.3849\n",
      "Epoch 90/100\n",
      "160/160 [==============================] - 0s 2ms/step - loss: 0.0793 - mean_absolute_error: 0.1537 - val_loss: 926.6027 - val_mean_absolute_error: 27.7380\n",
      "Epoch 91/100\n",
      "160/160 [==============================] - 0s 2ms/step - loss: 0.0914 - mean_absolute_error: 0.1643 - val_loss: 868.1240 - val_mean_absolute_error: 26.8400\n",
      "Epoch 92/100\n",
      "160/160 [==============================] - 0s 2ms/step - loss: 0.0825 - mean_absolute_error: 0.1543 - val_loss: 807.9585 - val_mean_absolute_error: 25.6878\n",
      "Epoch 93/100\n",
      "160/160 [==============================] - 0s 2ms/step - loss: 0.0870 - mean_absolute_error: 0.1586 - val_loss: 805.6048 - val_mean_absolute_error: 25.6714\n",
      "Epoch 94/100\n",
      "160/160 [==============================] - 0s 2ms/step - loss: 0.0788 - mean_absolute_error: 0.1534 - val_loss: 813.0746 - val_mean_absolute_error: 25.7591\n",
      "Epoch 95/100\n",
      "160/160 [==============================] - 0s 2ms/step - loss: 0.0918 - mean_absolute_error: 0.1683 - val_loss: 904.0767 - val_mean_absolute_error: 27.4086\n",
      "Epoch 96/100\n",
      "160/160 [==============================] - 0s 2ms/step - loss: 0.0761 - mean_absolute_error: 0.1528 - val_loss: 823.6146 - val_mean_absolute_error: 25.9673\n",
      "Epoch 97/100\n",
      "160/160 [==============================] - 0s 2ms/step - loss: 0.0763 - mean_absolute_error: 0.1492 - val_loss: 802.5580 - val_mean_absolute_error: 25.6895\n",
      "Epoch 98/100\n",
      "160/160 [==============================] - 0s 2ms/step - loss: 0.0800 - mean_absolute_error: 0.1535 - val_loss: 812.3958 - val_mean_absolute_error: 25.7660\n",
      "Epoch 99/100\n",
      "160/160 [==============================] - 0s 2ms/step - loss: 0.0955 - mean_absolute_error: 0.1724 - val_loss: 784.3188 - val_mean_absolute_error: 25.3096\n",
      "Epoch 100/100\n",
      "160/160 [==============================] - 0s 2ms/step - loss: 0.0804 - mean_absolute_error: 0.1540 - val_loss: 807.0168 - val_mean_absolute_error: 25.7951\n"
     ]
    },
    {
     "data": {
      "text/plain": [
       "<keras.callbacks.History at 0x7fa814d93f70>"
      ]
     },
     "execution_count": 25,
     "metadata": {},
     "output_type": "execute_result"
    }
   ],
   "source": [
    "model = Sequential([layers.Input((3, 1)),\n",
    "                    layers.LSTM(64),\n",
    "                    layers.Dense(32, activation='relu'),\n",
    "                    layers.Dense(32, activation='relu'),\n",
    "                    layers.Dense(1)])\n",
    "\n",
    "model.compile(loss='mse', \n",
    "              optimizer=Adam(learning_rate=0.001),\n",
    "              metrics=['mean_absolute_error'])\n",
    "\n",
    "model.fit(X_train, y_train, validation_data=(X_val, y_val), epochs=100)"
   ]
  },
  {
   "cell_type": "markdown",
   "metadata": {},
   "source": [
    "#### Results"
   ]
  },
  {
   "cell_type": "code",
   "execution_count": 26,
   "metadata": {},
   "outputs": [
    {
     "name": "stdout",
     "output_type": "stream",
     "text": [
      "160/160 [==============================] - 0s 823us/step\n",
      "20/20 [==============================] - 0s 896us/step\n",
      "20/20 [==============================] - 0s 985us/step\n"
     ]
    },
    {
     "data": {
      "text/plain": [
       "<matplotlib.legend.Legend at 0x7fa803f5a5c0>"
      ]
     },
     "execution_count": 26,
     "metadata": {},
     "output_type": "execute_result"
    },
    {
     "data": {
      "image/png": "[encoded data removed]",
      "text/plain": [
       "<Figure size 640x480 with 1 Axes>"
      ]
     },
     "metadata": {},
     "output_type": "display_data"
    }
   ],
   "source": [
    "train_pred = model.predict(X_train).flatten()\n",
    "val_pred = model.predict(X_val).flatten()\n",
    "test_pred = model.predict(X_test).flatten()\n",
    "\n",
    "# training data\n",
    "plt.plot(dates_train, train_pred)\n",
    "plt.plot(dates_train, y_train)\n",
    "\n",
    "# validation data\n",
    "plt.plot(dates_val, val_pred)\n",
    "plt.plot(dates_val, y_val)\n",
    "\n",
    "# testing data\n",
    "plt.plot(dates_test, test_pred)\n",
    "plt.plot(dates_test, y_test)\n",
    "plt.legend(['Training Predictions', \n",
    "            'Training Observations',\n",
    "            'Validation Predictions', \n",
    "            'Validation Observations',\n",
    "            'Testing Predictions', \n",
    "            'Testing Observations'])"
   ]
  },
  {
   "cell_type": "code",
   "execution_count": 27,
   "metadata": {},
   "outputs": [
    {
     "name": "stdout",
     "output_type": "stream",
     "text": [
      "Train Score: 0.25 RMSE\n",
      "Cross Validation Score: 0.25 RMSE\n",
      "Test Score: 100.65 RMSE\n"
     ]
    }
   ],
   "source": [
    "trainScore = np.sqrt(mean_squared_error(y_train, train_pred))\n",
    "print('Train Score: %.2f RMSE' % (trainScore))\n",
    "valScore = np.sqrt(mean_squared_error(y_val, val_pred))\n",
    "print('Cross Validation Score: %.2f RMSE' % (trainScore))\n",
    "testScore = np.sqrt(mean_squared_error(y_test, test_pred))\n",
    "print('Test Score: %.2f RMSE' % (testScore))"
   ]
  },
  {
   "cell_type": "markdown",
   "metadata": {},
   "source": [
    "### Apple Dataframe"
   ]
  },
  {
   "cell_type": "code",
   "execution_count": 28,
   "metadata": {},
   "outputs": [],
   "source": [
    "df = load_data(\"AAPL\")"
   ]
  },
  {
   "cell_type": "code",
   "execution_count": 29,
   "metadata": {},
   "outputs": [
    {
     "data": {
      "text/html": [
       "<div>\n",
       "<style scoped>\n",
       "    .dataframe tbody tr th:only-of-type {\n",
       "        vertical-align: middle;\n",
       "    }\n",
       "\n",
       "    .dataframe tbody tr th {\n",
       "        vertical-align: top;\n",
       "    }\n",
       "\n",
       "    .dataframe thead th {\n",
       "        text-align: right;\n",
       "    }\n",
       "</style>\n",
       "<table border=\"1\" class=\"dataframe\">\n",
       "  <thead>\n",
       "    <tr style=\"text-align: right;\">\n",
       "      <th></th>\n",
       "      <th>Low</th>\n",
       "      <th>Open</th>\n",
       "      <th>Volume</th>\n",
       "      <th>High</th>\n",
       "      <th>Close</th>\n",
       "      <th>Adjusted Close</th>\n",
       "      <th>Label</th>\n",
       "      <th>30_day_moving_average</th>\n",
       "    </tr>\n",
       "    <tr>\n",
       "      <th>Date</th>\n",
       "      <th></th>\n",
       "      <th></th>\n",
       "      <th></th>\n",
       "      <th></th>\n",
       "      <th></th>\n",
       "      <th></th>\n",
       "      <th></th>\n",
       "      <th></th>\n",
       "    </tr>\n",
       "  </thead>\n",
       "  <tbody>\n",
       "    <tr>\n",
       "      <th>1981-01-26</th>\n",
       "      <td>0.143973</td>\n",
       "      <td>0.144531</td>\n",
       "      <td>24640000</td>\n",
       "      <td>0.144531</td>\n",
       "      <td>0.143973</td>\n",
       "      <td>0.112032</td>\n",
       "      <td>0.100446</td>\n",
       "      <td>0.139788</td>\n",
       "    </tr>\n",
       "    <tr>\n",
       "      <th>1981-01-27</th>\n",
       "      <td>0.142857</td>\n",
       "      <td>0.143973</td>\n",
       "      <td>23699200</td>\n",
       "      <td>0.143973</td>\n",
       "      <td>0.142857</td>\n",
       "      <td>0.111164</td>\n",
       "      <td>0.096540</td>\n",
       "      <td>0.140272</td>\n",
       "    </tr>\n",
       "    <tr>\n",
       "      <th>1981-01-28</th>\n",
       "      <td>0.138393</td>\n",
       "      <td>0.138951</td>\n",
       "      <td>28156800</td>\n",
       "      <td>0.138951</td>\n",
       "      <td>0.138393</td>\n",
       "      <td>0.107690</td>\n",
       "      <td>0.100446</td>\n",
       "      <td>0.140830</td>\n",
       "    </tr>\n",
       "    <tr>\n",
       "      <th>1981-01-29</th>\n",
       "      <td>0.133371</td>\n",
       "      <td>0.133929</td>\n",
       "      <td>43904000</td>\n",
       "      <td>0.133929</td>\n",
       "      <td>0.133371</td>\n",
       "      <td>0.103782</td>\n",
       "      <td>0.099330</td>\n",
       "      <td>0.141518</td>\n",
       "    </tr>\n",
       "    <tr>\n",
       "      <th>1981-01-30</th>\n",
       "      <td>0.126116</td>\n",
       "      <td>0.127232</td>\n",
       "      <td>46188800</td>\n",
       "      <td>0.127232</td>\n",
       "      <td>0.126116</td>\n",
       "      <td>0.098137</td>\n",
       "      <td>0.103237</td>\n",
       "      <td>0.141871</td>\n",
       "    </tr>\n",
       "    <tr>\n",
       "      <th>...</th>\n",
       "      <td>...</td>\n",
       "      <td>...</td>\n",
       "      <td>...</td>\n",
       "      <td>...</td>\n",
       "      <td>...</td>\n",
       "      <td>...</td>\n",
       "      <td>...</td>\n",
       "      <td>...</td>\n",
       "    </tr>\n",
       "    <tr>\n",
       "      <th>2022-10-24</th>\n",
       "      <td>146.000000</td>\n",
       "      <td>147.190002</td>\n",
       "      <td>75981900</td>\n",
       "      <td>150.229996</td>\n",
       "      <td>149.449997</td>\n",
       "      <td>149.202484</td>\n",
       "      <td>142.910004</td>\n",
       "      <td>146.774998</td>\n",
       "    </tr>\n",
       "    <tr>\n",
       "      <th>2022-10-25</th>\n",
       "      <td>149.360001</td>\n",
       "      <td>150.089996</td>\n",
       "      <td>74732300</td>\n",
       "      <td>152.490005</td>\n",
       "      <td>152.339996</td>\n",
       "      <td>152.087708</td>\n",
       "      <td>140.940002</td>\n",
       "      <td>146.724998</td>\n",
       "    </tr>\n",
       "    <tr>\n",
       "      <th>2022-10-26</th>\n",
       "      <td>148.039993</td>\n",
       "      <td>150.960007</td>\n",
       "      <td>88194300</td>\n",
       "      <td>151.990005</td>\n",
       "      <td>149.350006</td>\n",
       "      <td>149.102661</td>\n",
       "      <td>142.649994</td>\n",
       "      <td>146.526332</td>\n",
       "    </tr>\n",
       "    <tr>\n",
       "      <th>2022-10-27</th>\n",
       "      <td>144.130005</td>\n",
       "      <td>148.070007</td>\n",
       "      <td>109180200</td>\n",
       "      <td>149.050003</td>\n",
       "      <td>144.800003</td>\n",
       "      <td>144.560196</td>\n",
       "      <td>142.160004</td>\n",
       "      <td>146.273999</td>\n",
       "    </tr>\n",
       "    <tr>\n",
       "      <th>2022-10-28</th>\n",
       "      <td>147.820007</td>\n",
       "      <td>148.199997</td>\n",
       "      <td>164762400</td>\n",
       "      <td>157.500000</td>\n",
       "      <td>155.740005</td>\n",
       "      <td>155.482086</td>\n",
       "      <td>142.320007</td>\n",
       "      <td>146.441999</td>\n",
       "    </tr>\n",
       "  </tbody>\n",
       "</table>\n",
       "<p>10531 rows × 8 columns</p>\n",
       "</div>"
      ],
      "text/plain": [
       "                   Low        Open     Volume        High       Close  \\\n",
       "Date                                                                    \n",
       "1981-01-26    0.143973    0.144531   24640000    0.144531    0.143973   \n",
       "1981-01-27    0.142857    0.143973   23699200    0.143973    0.142857   \n",
       "1981-01-28    0.138393    0.138951   28156800    0.138951    0.138393   \n",
       "1981-01-29    0.133371    0.133929   43904000    0.133929    0.133371   \n",
       "1981-01-30    0.126116    0.127232   46188800    0.127232    0.126116   \n",
       "...                ...         ...        ...         ...         ...   \n",
       "2022-10-24  146.000000  147.190002   75981900  150.229996  149.449997   \n",
       "2022-10-25  149.360001  150.089996   74732300  152.490005  152.339996   \n",
       "2022-10-26  148.039993  150.960007   88194300  151.990005  149.350006   \n",
       "2022-10-27  144.130005  148.070007  109180200  149.050003  144.800003   \n",
       "2022-10-28  147.820007  148.199997  164762400  157.500000  155.740005   \n",
       "\n",
       "            Adjusted Close       Label  30_day_moving_average  \n",
       "Date                                                           \n",
       "1981-01-26        0.112032    0.100446               0.139788  \n",
       "1981-01-27        0.111164    0.096540               0.140272  \n",
       "1981-01-28        0.107690    0.100446               0.140830  \n",
       "1981-01-29        0.103782    0.099330               0.141518  \n",
       "1981-01-30        0.098137    0.103237               0.141871  \n",
       "...                    ...         ...                    ...  \n",
       "2022-10-24      149.202484  142.910004             146.774998  \n",
       "2022-10-25      152.087708  140.940002             146.724998  \n",
       "2022-10-26      149.102661  142.649994             146.526332  \n",
       "2022-10-27      144.560196  142.160004             146.273999  \n",
       "2022-10-28      155.482086  142.320007             146.441999  \n",
       "\n",
       "[10531 rows x 8 columns]"
      ]
     },
     "execution_count": 29,
     "metadata": {},
     "output_type": "execute_result"
    }
   ],
   "source": [
    "df"
   ]
  },
  {
   "cell_type": "code",
   "execution_count": 30,
   "metadata": {},
   "outputs": [
    {
     "data": {
      "text/plain": [
       "[<matplotlib.lines.Line2D at 0x7fa803ff94b0>]"
      ]
     },
     "execution_count": 30,
     "metadata": {},
     "output_type": "execute_result"
    },
    {
     "data": {
      "image/png": "[encoded data removed]",
      "text/plain": [
       "<Figure size 640x480 with 1 Axes>"
      ]
     },
     "metadata": {},
     "output_type": "display_data"
    }
   ],
   "source": [
    "plt.plot(df.index, df['Close'])"
   ]
  },
  {
   "cell_type": "code",
   "execution_count": 31,
   "metadata": {
    "papermill": {
     "duration": 0.491383,
     "end_time": "2021-03-22T16:59:28.146260",
     "exception": false,
     "start_time": "2021-03-22T16:59:27.654877",
     "status": "completed"
    },
    "tags": []
   },
   "outputs": [],
   "source": [
    "X = df.drop(columns=\"Label\")\n",
    "y = df[\"Label\"]"
   ]
  },
  {
   "cell_type": "code",
   "execution_count": 32,
   "metadata": {},
   "outputs": [],
   "source": [
    "X_train, X_test, y_train, y_test = train_test_split(X, y, test_size=0.2)"
   ]
  },
  {
   "cell_type": "markdown",
   "metadata": {},
   "source": [
    "### Intel Dataframe"
   ]
  },
  {
   "cell_type": "code",
   "execution_count": 33,
   "metadata": {},
   "outputs": [],
   "source": [
    "df = load_data(\"INTC\")"
   ]
  },
  {
   "cell_type": "code",
   "execution_count": 34,
   "metadata": {},
   "outputs": [
    {
     "data": {
      "text/html": [
       "<div>\n",
       "<style scoped>\n",
       "    .dataframe tbody tr th:only-of-type {\n",
       "        vertical-align: middle;\n",
       "    }\n",
       "\n",
       "    .dataframe tbody tr th {\n",
       "        vertical-align: top;\n",
       "    }\n",
       "\n",
       "    .dataframe thead th {\n",
       "        text-align: right;\n",
       "    }\n",
       "</style>\n",
       "<table border=\"1\" class=\"dataframe\">\n",
       "  <thead>\n",
       "    <tr style=\"text-align: right;\">\n",
       "      <th></th>\n",
       "      <th>Low</th>\n",
       "      <th>Open</th>\n",
       "      <th>Volume</th>\n",
       "      <th>High</th>\n",
       "      <th>Close</th>\n",
       "      <th>Adjusted Close</th>\n",
       "      <th>Label</th>\n",
       "      <th>30_day_moving_average</th>\n",
       "    </tr>\n",
       "    <tr>\n",
       "      <th>Date</th>\n",
       "      <th></th>\n",
       "      <th></th>\n",
       "      <th></th>\n",
       "      <th></th>\n",
       "      <th></th>\n",
       "      <th></th>\n",
       "      <th></th>\n",
       "      <th></th>\n",
       "    </tr>\n",
       "  </thead>\n",
       "  <tbody>\n",
       "    <tr>\n",
       "      <th>1980-04-28</th>\n",
       "      <td>0.312500</td>\n",
       "      <td>0.315104</td>\n",
       "      <td>6931200</td>\n",
       "      <td>0.317708</td>\n",
       "      <td>0.312500</td>\n",
       "      <td>0.190400</td>\n",
       "      <td>0.350260</td>\n",
       "      <td>0.311111</td>\n",
       "    </tr>\n",
       "    <tr>\n",
       "      <th>1980-04-29</th>\n",
       "      <td>0.315104</td>\n",
       "      <td>0.315104</td>\n",
       "      <td>6297600</td>\n",
       "      <td>0.320313</td>\n",
       "      <td>0.315104</td>\n",
       "      <td>0.191986</td>\n",
       "      <td>0.354167</td>\n",
       "      <td>0.310764</td>\n",
       "    </tr>\n",
       "    <tr>\n",
       "      <th>1980-04-30</th>\n",
       "      <td>0.319010</td>\n",
       "      <td>0.319010</td>\n",
       "      <td>7065600</td>\n",
       "      <td>0.324219</td>\n",
       "      <td>0.319010</td>\n",
       "      <td>0.194366</td>\n",
       "      <td>0.348958</td>\n",
       "      <td>0.310634</td>\n",
       "    </tr>\n",
       "    <tr>\n",
       "      <th>1980-05-01</th>\n",
       "      <td>0.320313</td>\n",
       "      <td>0.320313</td>\n",
       "      <td>7008000</td>\n",
       "      <td>0.325521</td>\n",
       "      <td>0.320313</td>\n",
       "      <td>0.195160</td>\n",
       "      <td>0.348958</td>\n",
       "      <td>0.310287</td>\n",
       "    </tr>\n",
       "    <tr>\n",
       "      <th>1980-05-02</th>\n",
       "      <td>0.325521</td>\n",
       "      <td>0.325521</td>\n",
       "      <td>5510400</td>\n",
       "      <td>0.330729</td>\n",
       "      <td>0.325521</td>\n",
       "      <td>0.198333</td>\n",
       "      <td>0.348958</td>\n",
       "      <td>0.310156</td>\n",
       "    </tr>\n",
       "    <tr>\n",
       "      <th>...</th>\n",
       "      <td>...</td>\n",
       "      <td>...</td>\n",
       "      <td>...</td>\n",
       "      <td>...</td>\n",
       "      <td>...</td>\n",
       "      <td>...</td>\n",
       "      <td>...</td>\n",
       "      <td>...</td>\n",
       "    </tr>\n",
       "    <tr>\n",
       "      <th>2022-10-24</th>\n",
       "      <td>26.520000</td>\n",
       "      <td>26.750000</td>\n",
       "      <td>43831600</td>\n",
       "      <td>27.480000</td>\n",
       "      <td>27.180000</td>\n",
       "      <td>27.180000</td>\n",
       "      <td>28.600000</td>\n",
       "      <td>27.126000</td>\n",
       "    </tr>\n",
       "    <tr>\n",
       "      <th>2022-10-25</th>\n",
       "      <td>27.000000</td>\n",
       "      <td>27.180000</td>\n",
       "      <td>32205300</td>\n",
       "      <td>27.559999</td>\n",
       "      <td>27.410000</td>\n",
       "      <td>27.410000</td>\n",
       "      <td>28.330000</td>\n",
       "      <td>27.063333</td>\n",
       "    </tr>\n",
       "    <tr>\n",
       "      <th>2022-10-26</th>\n",
       "      <td>26.990000</td>\n",
       "      <td>27.190001</td>\n",
       "      <td>37111100</td>\n",
       "      <td>27.799999</td>\n",
       "      <td>27.209999</td>\n",
       "      <td>27.209999</td>\n",
       "      <td>28.440001</td>\n",
       "      <td>26.997667</td>\n",
       "    </tr>\n",
       "    <tr>\n",
       "      <th>2022-10-27</th>\n",
       "      <td>26.129999</td>\n",
       "      <td>27.450001</td>\n",
       "      <td>56305100</td>\n",
       "      <td>27.590000</td>\n",
       "      <td>26.270000</td>\n",
       "      <td>26.270000</td>\n",
       "      <td>28.240000</td>\n",
       "      <td>26.912000</td>\n",
       "    </tr>\n",
       "    <tr>\n",
       "      <th>2022-10-28</th>\n",
       "      <td>27.860001</td>\n",
       "      <td>28.180000</td>\n",
       "      <td>91695700</td>\n",
       "      <td>29.219999</td>\n",
       "      <td>29.070000</td>\n",
       "      <td>29.070000</td>\n",
       "      <td>28.115499</td>\n",
       "      <td>26.906333</td>\n",
       "    </tr>\n",
       "  </tbody>\n",
       "</table>\n",
       "<p>10719 rows × 8 columns</p>\n",
       "</div>"
      ],
      "text/plain": [
       "                  Low       Open    Volume       High      Close  \\\n",
       "Date                                                               \n",
       "1980-04-28   0.312500   0.315104   6931200   0.317708   0.312500   \n",
       "1980-04-29   0.315104   0.315104   6297600   0.320313   0.315104   \n",
       "1980-04-30   0.319010   0.319010   7065600   0.324219   0.319010   \n",
       "1980-05-01   0.320313   0.320313   7008000   0.325521   0.320313   \n",
       "1980-05-02   0.325521   0.325521   5510400   0.330729   0.325521   \n",
       "...               ...        ...       ...        ...        ...   \n",
       "2022-10-24  26.520000  26.750000  43831600  27.480000  27.180000   \n",
       "2022-10-25  27.000000  27.180000  32205300  27.559999  27.410000   \n",
       "2022-10-26  26.990000  27.190001  37111100  27.799999  27.209999   \n",
       "2022-10-27  26.129999  27.450001  56305100  27.590000  26.270000   \n",
       "2022-10-28  27.860001  28.180000  91695700  29.219999  29.070000   \n",
       "\n",
       "            Adjusted Close      Label  30_day_moving_average  \n",
       "Date                                                          \n",
       "1980-04-28        0.190400   0.350260               0.311111  \n",
       "1980-04-29        0.191986   0.354167               0.310764  \n",
       "1980-04-30        0.194366   0.348958               0.310634  \n",
       "1980-05-01        0.195160   0.348958               0.310287  \n",
       "1980-05-02        0.198333   0.348958               0.310156  \n",
       "...                    ...        ...                    ...  \n",
       "2022-10-24       27.180000  28.600000              27.126000  \n",
       "2022-10-25       27.410000  28.330000              27.063333  \n",
       "2022-10-26       27.209999  28.440001              26.997667  \n",
       "2022-10-27       26.270000  28.240000              26.912000  \n",
       "2022-10-28       29.070000  28.115499              26.906333  \n",
       "\n",
       "[10719 rows x 8 columns]"
      ]
     },
     "execution_count": 34,
     "metadata": {},
     "output_type": "execute_result"
    }
   ],
   "source": [
    "df"
   ]
  },
  {
   "cell_type": "code",
   "execution_count": 35,
   "metadata": {},
   "outputs": [
    {
     "data": {
      "text/plain": [
       "[<matplotlib.lines.Line2D at 0x7fa8002f7eb0>]"
      ]
     },
     "execution_count": 35,
     "metadata": {},
     "output_type": "execute_result"
    },
    {
     "data": {
      "image/png": "[encoded data removed]",
      "text/plain": [
       "<Figure size 640x480 with 1 Axes>"
      ]
     },
     "metadata": {},
     "output_type": "display_data"
    }
   ],
   "source": [
    "plt.plot(df.index, df['Close'])"
   ]
  },
  {
   "cell_type": "code",
   "execution_count": 36,
   "metadata": {
    "papermill": {
     "duration": 0.491383,
     "end_time": "2021-03-22T16:59:28.146260",
     "exception": false,
     "start_time": "2021-03-22T16:59:27.654877",
     "status": "completed"
    },
    "tags": []
   },
   "outputs": [],
   "source": [
    "X = df.drop(columns=\"Label\")\n",
    "y = df[\"Label\"]"
   ]
  },
  {
   "cell_type": "code",
   "execution_count": 37,
   "metadata": {},
   "outputs": [],
   "source": [
    "X_train, X_test, y_train, y_test = train_test_split(X, y, test_size=0.2)"
   ]
  },
  {
   "cell_type": "markdown",
   "metadata": {},
   "source": [
    "### Microsoft Dataframe"
   ]
  },
  {
   "cell_type": "code",
   "execution_count": 38,
   "metadata": {},
   "outputs": [],
   "source": [
    "df = load_data(\"MSFT\")"
   ]
  },
  {
   "cell_type": "code",
   "execution_count": 39,
   "metadata": {},
   "outputs": [
    {
     "data": {
      "text/html": [
       "<div>\n",
       "<style scoped>\n",
       "    .dataframe tbody tr th:only-of-type {\n",
       "        vertical-align: middle;\n",
       "    }\n",
       "\n",
       "    .dataframe tbody tr th {\n",
       "        vertical-align: top;\n",
       "    }\n",
       "\n",
       "    .dataframe thead th {\n",
       "        text-align: right;\n",
       "    }\n",
       "</style>\n",
       "<table border=\"1\" class=\"dataframe\">\n",
       "  <thead>\n",
       "    <tr style=\"text-align: right;\">\n",
       "      <th></th>\n",
       "      <th>Low</th>\n",
       "      <th>Open</th>\n",
       "      <th>Volume</th>\n",
       "      <th>High</th>\n",
       "      <th>Close</th>\n",
       "      <th>Adjusted Close</th>\n",
       "      <th>Label</th>\n",
       "      <th>30_day_moving_average</th>\n",
       "    </tr>\n",
       "    <tr>\n",
       "      <th>Date</th>\n",
       "      <th></th>\n",
       "      <th></th>\n",
       "      <th></th>\n",
       "      <th></th>\n",
       "      <th></th>\n",
       "      <th></th>\n",
       "      <th></th>\n",
       "      <th></th>\n",
       "    </tr>\n",
       "  </thead>\n",
       "  <tbody>\n",
       "    <tr>\n",
       "      <th>1986-04-24</th>\n",
       "      <td>0.099826</td>\n",
       "      <td>0.100260</td>\n",
       "      <td>62352000</td>\n",
       "      <td>0.111979</td>\n",
       "      <td>0.110243</td>\n",
       "      <td>0.069860</td>\n",
       "      <td>0.118924</td>\n",
       "      <td>0.098249</td>\n",
       "    </tr>\n",
       "    <tr>\n",
       "      <th>1986-04-25</th>\n",
       "      <td>0.111111</td>\n",
       "      <td>0.111111</td>\n",
       "      <td>85795200</td>\n",
       "      <td>0.121962</td>\n",
       "      <td>0.117188</td>\n",
       "      <td>0.074261</td>\n",
       "      <td>0.113715</td>\n",
       "      <td>0.098915</td>\n",
       "    </tr>\n",
       "    <tr>\n",
       "      <th>1986-04-28</th>\n",
       "      <td>0.116319</td>\n",
       "      <td>0.117188</td>\n",
       "      <td>28886400</td>\n",
       "      <td>0.118924</td>\n",
       "      <td>0.118056</td>\n",
       "      <td>0.074811</td>\n",
       "      <td>0.113715</td>\n",
       "      <td>0.099494</td>\n",
       "    </tr>\n",
       "    <tr>\n",
       "      <th>1986-04-29</th>\n",
       "      <td>0.113715</td>\n",
       "      <td>0.118056</td>\n",
       "      <td>30326400</td>\n",
       "      <td>0.118056</td>\n",
       "      <td>0.114583</td>\n",
       "      <td>0.072610</td>\n",
       "      <td>0.113715</td>\n",
       "      <td>0.099899</td>\n",
       "    </tr>\n",
       "    <tr>\n",
       "      <th>1986-04-30</th>\n",
       "      <td>0.109375</td>\n",
       "      <td>0.114583</td>\n",
       "      <td>30902400</td>\n",
       "      <td>0.115451</td>\n",
       "      <td>0.111979</td>\n",
       "      <td>0.070960</td>\n",
       "      <td>0.109375</td>\n",
       "      <td>0.100304</td>\n",
       "    </tr>\n",
       "    <tr>\n",
       "      <th>...</th>\n",
       "      <td>...</td>\n",
       "      <td>...</td>\n",
       "      <td>...</td>\n",
       "      <td>...</td>\n",
       "      <td>...</td>\n",
       "      <td>...</td>\n",
       "      <td>...</td>\n",
       "      <td>...</td>\n",
       "    </tr>\n",
       "    <tr>\n",
       "      <th>2022-10-24</th>\n",
       "      <td>241.300003</td>\n",
       "      <td>243.759995</td>\n",
       "      <td>24911200</td>\n",
       "      <td>247.839996</td>\n",
       "      <td>247.250000</td>\n",
       "      <td>247.250000</td>\n",
       "      <td>245.119995</td>\n",
       "      <td>239.519000</td>\n",
       "    </tr>\n",
       "    <tr>\n",
       "      <th>2022-10-25</th>\n",
       "      <td>245.830002</td>\n",
       "      <td>247.259995</td>\n",
       "      <td>34775500</td>\n",
       "      <td>251.039993</td>\n",
       "      <td>250.660004</td>\n",
       "      <td>250.660004</td>\n",
       "      <td>244.369995</td>\n",
       "      <td>239.474667</td>\n",
       "    </tr>\n",
       "    <tr>\n",
       "      <th>2022-10-26</th>\n",
       "      <td>230.059998</td>\n",
       "      <td>231.169998</td>\n",
       "      <td>82543200</td>\n",
       "      <td>238.300003</td>\n",
       "      <td>231.320007</td>\n",
       "      <td>231.320007</td>\n",
       "      <td>247.399994</td>\n",
       "      <td>238.778000</td>\n",
       "    </tr>\n",
       "    <tr>\n",
       "      <th>2022-10-27</th>\n",
       "      <td>225.779999</td>\n",
       "      <td>231.039993</td>\n",
       "      <td>40424600</td>\n",
       "      <td>233.690002</td>\n",
       "      <td>226.750000</td>\n",
       "      <td>226.750000</td>\n",
       "      <td>245.419998</td>\n",
       "      <td>238.157000</td>\n",
       "    </tr>\n",
       "    <tr>\n",
       "      <th>2022-10-28</th>\n",
       "      <td>226.050003</td>\n",
       "      <td>226.240005</td>\n",
       "      <td>40647700</td>\n",
       "      <td>236.600006</td>\n",
       "      <td>235.869995</td>\n",
       "      <td>235.869995</td>\n",
       "      <td>250.669998</td>\n",
       "      <td>237.861333</td>\n",
       "    </tr>\n",
       "  </tbody>\n",
       "</table>\n",
       "<p>9205 rows × 8 columns</p>\n",
       "</div>"
      ],
      "text/plain": [
       "                   Low        Open    Volume        High       Close  \\\n",
       "Date                                                                   \n",
       "1986-04-24    0.099826    0.100260  62352000    0.111979    0.110243   \n",
       "1986-04-25    0.111111    0.111111  85795200    0.121962    0.117188   \n",
       "1986-04-28    0.116319    0.117188  28886400    0.118924    0.118056   \n",
       "1986-04-29    0.113715    0.118056  30326400    0.118056    0.114583   \n",
       "1986-04-30    0.109375    0.114583  30902400    0.115451    0.111979   \n",
       "...                ...         ...       ...         ...         ...   \n",
       "2022-10-24  241.300003  243.759995  24911200  247.839996  247.250000   \n",
       "2022-10-25  245.830002  247.259995  34775500  251.039993  250.660004   \n",
       "2022-10-26  230.059998  231.169998  82543200  238.300003  231.320007   \n",
       "2022-10-27  225.779999  231.039993  40424600  233.690002  226.750000   \n",
       "2022-10-28  226.050003  226.240005  40647700  236.600006  235.869995   \n",
       "\n",
       "            Adjusted Close       Label  30_day_moving_average  \n",
       "Date                                                           \n",
       "1986-04-24        0.069860    0.118924               0.098249  \n",
       "1986-04-25        0.074261    0.113715               0.098915  \n",
       "1986-04-28        0.074811    0.113715               0.099494  \n",
       "1986-04-29        0.072610    0.113715               0.099899  \n",
       "1986-04-30        0.070960    0.109375               0.100304  \n",
       "...                    ...         ...                    ...  \n",
       "2022-10-24      247.250000  245.119995             239.519000  \n",
       "2022-10-25      250.660004  244.369995             239.474667  \n",
       "2022-10-26      231.320007  247.399994             238.778000  \n",
       "2022-10-27      226.750000  245.419998             238.157000  \n",
       "2022-10-28      235.869995  250.669998             237.861333  \n",
       "\n",
       "[9205 rows x 8 columns]"
      ]
     },
     "execution_count": 39,
     "metadata": {},
     "output_type": "execute_result"
    }
   ],
   "source": [
    "df"
   ]
  },
  {
   "cell_type": "code",
   "execution_count": 40,
   "metadata": {},
   "outputs": [
    {
     "data": {
      "text/plain": [
       "[<matplotlib.lines.Line2D at 0x7fa800201a20>]"
      ]
     },
     "execution_count": 40,
     "metadata": {},
     "output_type": "execute_result"
    },
    {
     "data": {
      "image/png": "[encoded data removed]",
      "text/plain": [
       "<Figure size 640x480 with 1 Axes>"
      ]
     },
     "metadata": {},
     "output_type": "display_data"
    }
   ],
   "source": [
    "plt.plot(df.index, df['Close'])"
   ]
  },
  {
   "cell_type": "code",
   "execution_count": 41,
   "metadata": {
    "papermill": {
     "duration": 0.491383,
     "end_time": "2021-03-22T16:59:28.146260",
     "exception": false,
     "start_time": "2021-03-22T16:59:27.654877",
     "status": "completed"
    },
    "tags": []
   },
   "outputs": [],
   "source": [
    "X = df.drop(columns=\"Label\")\n",
    "y = df[\"Label\"]"
   ]
  },
  {
   "cell_type": "code",
   "execution_count": 42,
   "metadata": {},
   "outputs": [],
   "source": [
    "X_train, X_test, y_train, y_test = train_test_split(X, y, test_size=0.2)"
   ]
  },
  {
   "cell_type": "markdown",
   "metadata": {},
   "source": [
    "### Nvidia Dataframe"
   ]
  },
  {
   "cell_type": "code",
   "execution_count": 43,
   "metadata": {},
   "outputs": [],
   "source": [
    "df = load_data(\"NVDA\")"
   ]
  },
  {
   "cell_type": "code",
   "execution_count": 44,
   "metadata": {},
   "outputs": [
    {
     "data": {
      "text/html": [
       "<div>\n",
       "<style scoped>\n",
       "    .dataframe tbody tr th:only-of-type {\n",
       "        vertical-align: middle;\n",
       "    }\n",
       "\n",
       "    .dataframe tbody tr th {\n",
       "        vertical-align: top;\n",
       "    }\n",
       "\n",
       "    .dataframe thead th {\n",
       "        text-align: right;\n",
       "    }\n",
       "</style>\n",
       "<table border=\"1\" class=\"dataframe\">\n",
       "  <thead>\n",
       "    <tr style=\"text-align: right;\">\n",
       "      <th></th>\n",
       "      <th>Low</th>\n",
       "      <th>Open</th>\n",
       "      <th>Volume</th>\n",
       "      <th>High</th>\n",
       "      <th>Close</th>\n",
       "      <th>Adjusted Close</th>\n",
       "      <th>Label</th>\n",
       "      <th>30_day_moving_average</th>\n",
       "    </tr>\n",
       "    <tr>\n",
       "      <th>Date</th>\n",
       "      <th></th>\n",
       "      <th></th>\n",
       "      <th></th>\n",
       "      <th></th>\n",
       "      <th></th>\n",
       "      <th></th>\n",
       "      <th></th>\n",
       "      <th></th>\n",
       "    </tr>\n",
       "  </thead>\n",
       "  <tbody>\n",
       "    <tr>\n",
       "      <th>1999-03-05</th>\n",
       "      <td>0.419271</td>\n",
       "      <td>0.419271</td>\n",
       "      <td>7876800</td>\n",
       "      <td>0.440104</td>\n",
       "      <td>0.438802</td>\n",
       "      <td>0.403209</td>\n",
       "      <td>0.395833</td>\n",
       "      <td>0.423785</td>\n",
       "    </tr>\n",
       "    <tr>\n",
       "      <th>1999-03-08</th>\n",
       "      <td>0.419271</td>\n",
       "      <td>0.427083</td>\n",
       "      <td>7588800</td>\n",
       "      <td>0.458333</td>\n",
       "      <td>0.445313</td>\n",
       "      <td>0.409191</td>\n",
       "      <td>0.388021</td>\n",
       "      <td>0.424957</td>\n",
       "    </tr>\n",
       "    <tr>\n",
       "      <th>1999-03-09</th>\n",
       "      <td>0.444010</td>\n",
       "      <td>0.444010</td>\n",
       "      <td>14318400</td>\n",
       "      <td>0.466146</td>\n",
       "      <td>0.459635</td>\n",
       "      <td>0.422352</td>\n",
       "      <td>0.394531</td>\n",
       "      <td>0.425174</td>\n",
       "    </tr>\n",
       "    <tr>\n",
       "      <th>1999-03-10</th>\n",
       "      <td>0.445313</td>\n",
       "      <td>0.466146</td>\n",
       "      <td>23534400</td>\n",
       "      <td>0.466146</td>\n",
       "      <td>0.451823</td>\n",
       "      <td>0.415173</td>\n",
       "      <td>0.377604</td>\n",
       "      <td>0.426302</td>\n",
       "    </tr>\n",
       "    <tr>\n",
       "      <th>1999-03-11</th>\n",
       "      <td>0.432292</td>\n",
       "      <td>0.444010</td>\n",
       "      <td>5428800</td>\n",
       "      <td>0.451823</td>\n",
       "      <td>0.432292</td>\n",
       "      <td>0.397227</td>\n",
       "      <td>0.359375</td>\n",
       "      <td>0.426823</td>\n",
       "    </tr>\n",
       "    <tr>\n",
       "      <th>...</th>\n",
       "      <td>...</td>\n",
       "      <td>...</td>\n",
       "      <td>...</td>\n",
       "      <td>...</td>\n",
       "      <td>...</td>\n",
       "      <td>...</td>\n",
       "      <td>...</td>\n",
       "      <td>...</td>\n",
       "    </tr>\n",
       "    <tr>\n",
       "      <th>2022-10-24</th>\n",
       "      <td>120.639999</td>\n",
       "      <td>125.080002</td>\n",
       "      <td>51745700</td>\n",
       "      <td>127.099998</td>\n",
       "      <td>125.989998</td>\n",
       "      <td>125.989998</td>\n",
       "      <td>159.869995</td>\n",
       "      <td>124.739999</td>\n",
       "    </tr>\n",
       "    <tr>\n",
       "      <th>2022-10-25</th>\n",
       "      <td>126.639999</td>\n",
       "      <td>126.940002</td>\n",
       "      <td>50548200</td>\n",
       "      <td>133.000000</td>\n",
       "      <td>132.610001</td>\n",
       "      <td>132.610001</td>\n",
       "      <td>161.199997</td>\n",
       "      <td>124.783333</td>\n",
       "    </tr>\n",
       "    <tr>\n",
       "      <th>2022-10-26</th>\n",
       "      <td>127.080002</td>\n",
       "      <td>128.690002</td>\n",
       "      <td>53295300</td>\n",
       "      <td>133.880005</td>\n",
       "      <td>128.960007</td>\n",
       "      <td>128.960007</td>\n",
       "      <td>171.690002</td>\n",
       "      <td>124.706000</td>\n",
       "    </tr>\n",
       "    <tr>\n",
       "      <th>2022-10-27</th>\n",
       "      <td>131.220001</td>\n",
       "      <td>136.300003</td>\n",
       "      <td>58311300</td>\n",
       "      <td>138.380005</td>\n",
       "      <td>131.759995</td>\n",
       "      <td>131.759995</td>\n",
       "      <td>170.009995</td>\n",
       "      <td>124.788333</td>\n",
       "    </tr>\n",
       "    <tr>\n",
       "      <th>2022-10-28</th>\n",
       "      <td>130.610001</td>\n",
       "      <td>131.039993</td>\n",
       "      <td>52104000</td>\n",
       "      <td>138.500000</td>\n",
       "      <td>138.339996</td>\n",
       "      <td>138.339996</td>\n",
       "      <td>171.285004</td>\n",
       "      <td>125.000333</td>\n",
       "    </tr>\n",
       "  </tbody>\n",
       "</table>\n",
       "<p>5954 rows × 8 columns</p>\n",
       "</div>"
      ],
      "text/plain": [
       "                   Low        Open    Volume        High       Close  \\\n",
       "Date                                                                   \n",
       "1999-03-05    0.419271    0.419271   7876800    0.440104    0.438802   \n",
       "1999-03-08    0.419271    0.427083   7588800    0.458333    0.445313   \n",
       "1999-03-09    0.444010    0.444010  14318400    0.466146    0.459635   \n",
       "1999-03-10    0.445313    0.466146  23534400    0.466146    0.451823   \n",
       "1999-03-11    0.432292    0.444010   5428800    0.451823    0.432292   \n",
       "...                ...         ...       ...         ...         ...   \n",
       "2022-10-24  120.639999  125.080002  51745700  127.099998  125.989998   \n",
       "2022-10-25  126.639999  126.940002  50548200  133.000000  132.610001   \n",
       "2022-10-26  127.080002  128.690002  53295300  133.880005  128.960007   \n",
       "2022-10-27  131.220001  136.300003  58311300  138.380005  131.759995   \n",
       "2022-10-28  130.610001  131.039993  52104000  138.500000  138.339996   \n",
       "\n",
       "            Adjusted Close       Label  30_day_moving_average  \n",
       "Date                                                           \n",
       "1999-03-05        0.403209    0.395833               0.423785  \n",
       "1999-03-08        0.409191    0.388021               0.424957  \n",
       "1999-03-09        0.422352    0.394531               0.425174  \n",
       "1999-03-10        0.415173    0.377604               0.426302  \n",
       "1999-03-11        0.397227    0.359375               0.426823  \n",
       "...                    ...         ...                    ...  \n",
       "2022-10-24      125.989998  159.869995             124.739999  \n",
       "2022-10-25      132.610001  161.199997             124.783333  \n",
       "2022-10-26      128.960007  171.690002             124.706000  \n",
       "2022-10-27      131.759995  170.009995             124.788333  \n",
       "2022-10-28      138.339996  171.285004             125.000333  \n",
       "\n",
       "[5954 rows x 8 columns]"
      ]
     },
     "execution_count": 44,
     "metadata": {},
     "output_type": "execute_result"
    }
   ],
   "source": [
    "df"
   ]
  },
  {
   "cell_type": "code",
   "execution_count": 45,
   "metadata": {},
   "outputs": [
    {
     "data": {
      "text/plain": [
       "[<matplotlib.lines.Line2D at 0x7fa8005e3f10>]"
      ]
     },
     "execution_count": 45,
     "metadata": {},
     "output_type": "execute_result"
    },
    {
     "data": {
      "image/png": "[encoded data removed]",
      "text/plain": [
       "<Figure size 640x480 with 1 Axes>"
      ]
     },
     "metadata": {},
     "output_type": "display_data"
    }
   ],
   "source": [
    "plt.plot(df.index, df['Close'])"
   ]
  },
  {
   "cell_type": "code",
   "execution_count": 46,
   "metadata": {
    "papermill": {
     "duration": 0.491383,
     "end_time": "2021-03-22T16:59:28.146260",
     "exception": false,
     "start_time": "2021-03-22T16:59:27.654877",
     "status": "completed"
    },
    "tags": []
   },
   "outputs": [],
   "source": [
    "X = df.drop(columns=\"Label\")\n",
    "y = df[\"Label\"]"
   ]
  },
  {
   "cell_type": "code",
   "execution_count": 47,
   "metadata": {},
   "outputs": [],
   "source": [
    "X_train, X_test, y_train, y_test = train_test_split(X, y, test_size=0.2)"
   ]
  }
 ],
 "metadata": {
  "kernelspec": {
   "display_name": "Python 3 (ipykernel)",
   "language": "python",
   "name": "python3"
  },
  "language_info": {
   "codemirror_mode": {
    "name": "ipython",
    "version": 3
   },
   "file_extension": ".py",
   "mimetype": "text/x-python",
   "name": "python",
   "nbconvert_exporter": "python",
   "pygments_lexer": "ipython3",
   "version": "3.10.10"
  },
  "papermill": {
   "default_parameters": {},
   "duration": 14.315211,
   "end_time": "2021-03-22T16:59:33.498906",
   "environment_variables": {},
   "exception": null,
   "input_path": "__notebook__.ipynb",
   "output_path": "__notebook__.ipynb",
   "parameters": {},
   "start_time": "2021-03-22T16:59:19.183695",
   "version": "2.2.2"
  }
 },
 "nbformat": 4,
 "nbformat_minor": 4
}
