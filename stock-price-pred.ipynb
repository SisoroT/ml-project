{
 "cells": [
  {
   "cell_type": "markdown",
   "metadata": {
    "papermill": {
     "duration": 0.030258,
     "end_time": "2021-03-22T16:59:25.542707",
     "exception": false,
     "start_time": "2021-03-22T16:59:25.512449",
     "status": "completed"
    },
    "tags": []
   },
   "source": [
    "<h1 style=\"text-align: center\" >Stock Prediction Using Logistic Regression</h1>"
   ]
  },
  {
   "cell_type": "markdown",
   "metadata": {},
   "source": [
    "## Import Libraries"
   ]
  },
  {
   "cell_type": "code",
   "execution_count": 1,
   "metadata": {
    "_cell_guid": "b1076dfc-b9ad-4769-8c92-a6c4dae69d19",
    "_uuid": "8f2839f25d086af736a60e9eeb907d3b93b6e0e5",
    "papermill": {
     "duration": 1.628352,
     "end_time": "2021-03-22T16:59:27.264171",
     "exception": false,
     "start_time": "2021-03-22T16:59:25.635819",
     "status": "completed"
    },
    "tags": []
   },
   "outputs": [],
   "source": [
    "import os\n",
    "import pandas as pd\n",
    "from tqdm.notebook import tqdm\n",
    "from sklearn.model_selection import train_test_split, cross_val_score\n",
    "from sklearn.preprocessing import LabelEncoder\n",
    "from sklearn.metrics import accuracy_score, classification_report, confusion_matrix"
   ]
  },
  {
   "cell_type": "markdown",
   "metadata": {},
   "source": [
    "## Load Data"
   ]
  },
  {
   "cell_type": "code",
   "execution_count": 2,
   "metadata": {
    "papermill": {
     "duration": 0.094249,
     "end_time": "2021-03-22T16:59:27.391556",
     "exception": false,
     "start_time": "2021-03-22T16:59:27.297307",
     "status": "completed"
    },
    "tags": []
   },
   "outputs": [],
   "source": [
    "def load_data(directory):\n",
    "    stock_data = []\n",
    "\n",
    "    files = [f for f in os.listdir(directory) if f.endswith(\".txt\")]\n",
    "\n",
    "    for filename in tqdm(files, desc=\"Loading data\"):\n",
    "        file_path = os.path.join(directory, filename)\n",
    "        if os.stat(file_path).st_size != 0:\n",
    "            symbol = filename.split(\".\")[0]\n",
    "            stock_df = pd.read_csv(file_path, parse_dates=[\"Date\"])\n",
    "            stock_df.set_index(\"Date\", inplace=True)\n",
    "            stock_df[\"Symbol\"] = symbol\n",
    "            stock_data.append(stock_df)\n",
    "\n",
    "    combined_df = pd.concat(stock_data)\n",
    "    return combined_df"
   ]
  },
  {
   "cell_type": "code",
   "execution_count": 3,
   "metadata": {},
   "outputs": [
    {
     "data": {
      "application/vnd.jupyter.widget-view+json": {
       "model_id": "ab80961f3c5d4757a147a4e52f9a7cc6",
       "version_major": 2,
       "version_minor": 0
      },
      "text/plain": [
       "Loading data:   0%|          | 0/7195 [00:00<?, ?it/s]"
      ]
     },
     "metadata": {},
     "output_type": "display_data"
    }
   ],
   "source": [
    "data = load_data(\"data/Stocks/\")"
   ]
  },
  {
   "cell_type": "markdown",
   "metadata": {},
   "source": [
    "## Preprocess Data"
   ]
  },
  {
   "cell_type": "code",
   "execution_count": 4,
   "metadata": {
    "papermill": {
     "duration": 0.055285,
     "end_time": "2021-03-22T16:59:27.478963",
     "exception": false,
     "start_time": "2021-03-22T16:59:27.423678",
     "status": "completed"
    },
    "tags": []
   },
   "outputs": [],
   "source": [
    "def preprocess_data(data, days_ahead=30):\n",
    "    data[\"Label\"] = data[\"Close\"].shift(-days_ahead) > data[\"Close\"]\n",
    "    data[\"Label\"] = data[\"Label\"].astype(int)\n",
    "    data[\"30_day_moving_average\"] = data[\"Close\"].rolling(window=30).mean()\n",
    "    \n",
    "    data.dropna(inplace=True)\n",
    "    return data"
   ]
  },
  {
   "cell_type": "code",
   "execution_count": 5,
   "metadata": {},
   "outputs": [],
   "source": [
    "data = preprocess_data(data)"
   ]
  },
  {
   "cell_type": "code",
   "execution_count": 6,
   "metadata": {},
   "outputs": [],
   "source": [
    "le = LabelEncoder()\n",
    "data[\"Symbol\"] = le.fit_transform(data[\"Symbol\"])"
   ]
  },
  {
   "cell_type": "code",
   "execution_count": 7,
   "metadata": {},
   "outputs": [
    {
     "data": {
      "text/html": [
       "<div>\n",
       "<style scoped>\n",
       "    .dataframe tbody tr th:only-of-type {\n",
       "        vertical-align: middle;\n",
       "    }\n",
       "\n",
       "    .dataframe tbody tr th {\n",
       "        vertical-align: top;\n",
       "    }\n",
       "\n",
       "    .dataframe thead th {\n",
       "        text-align: right;\n",
       "    }\n",
       "</style>\n",
       "<table border=\"1\" class=\"dataframe\">\n",
       "  <thead>\n",
       "    <tr style=\"text-align: right;\">\n",
       "      <th></th>\n",
       "      <th>Open</th>\n",
       "      <th>High</th>\n",
       "      <th>Low</th>\n",
       "      <th>Close</th>\n",
       "      <th>Volume</th>\n",
       "      <th>OpenInt</th>\n",
       "      <th>Symbol</th>\n",
       "      <th>Label</th>\n",
       "      <th>30_day_moving_average</th>\n",
       "    </tr>\n",
       "    <tr>\n",
       "      <th>Date</th>\n",
       "      <th></th>\n",
       "      <th></th>\n",
       "      <th></th>\n",
       "      <th></th>\n",
       "      <th></th>\n",
       "      <th></th>\n",
       "      <th></th>\n",
       "      <th></th>\n",
       "      <th></th>\n",
       "    </tr>\n",
       "  </thead>\n",
       "  <tbody>\n",
       "    <tr>\n",
       "      <th>2016-12-21</th>\n",
       "      <td>105.75</td>\n",
       "      <td>105.77</td>\n",
       "      <td>105.130</td>\n",
       "      <td>105.130</td>\n",
       "      <td>9034</td>\n",
       "      <td>0</td>\n",
       "      <td>2452</td>\n",
       "      <td>1</td>\n",
       "      <td>100.559177</td>\n",
       "    </tr>\n",
       "    <tr>\n",
       "      <th>2016-12-22</th>\n",
       "      <td>105.45</td>\n",
       "      <td>105.82</td>\n",
       "      <td>105.155</td>\n",
       "      <td>105.155</td>\n",
       "      <td>4604</td>\n",
       "      <td>0</td>\n",
       "      <td>2452</td>\n",
       "      <td>1</td>\n",
       "      <td>100.722677</td>\n",
       "    </tr>\n",
       "    <tr>\n",
       "      <th>2016-12-23</th>\n",
       "      <td>105.31</td>\n",
       "      <td>105.75</td>\n",
       "      <td>105.310</td>\n",
       "      <td>105.750</td>\n",
       "      <td>14041</td>\n",
       "      <td>0</td>\n",
       "      <td>2452</td>\n",
       "      <td>1</td>\n",
       "      <td>100.831677</td>\n",
       "    </tr>\n",
       "    <tr>\n",
       "      <th>2016-12-27</th>\n",
       "      <td>105.85</td>\n",
       "      <td>105.94</td>\n",
       "      <td>105.651</td>\n",
       "      <td>105.780</td>\n",
       "      <td>3701</td>\n",
       "      <td>0</td>\n",
       "      <td>2452</td>\n",
       "      <td>1</td>\n",
       "      <td>101.069677</td>\n",
       "    </tr>\n",
       "    <tr>\n",
       "      <th>2016-12-28</th>\n",
       "      <td>104.92</td>\n",
       "      <td>104.93</td>\n",
       "      <td>104.730</td>\n",
       "      <td>104.730</td>\n",
       "      <td>3020</td>\n",
       "      <td>0</td>\n",
       "      <td>2452</td>\n",
       "      <td>1</td>\n",
       "      <td>101.279010</td>\n",
       "    </tr>\n",
       "  </tbody>\n",
       "</table>\n",
       "</div>"
      ],
      "text/plain": [
       "              Open    High      Low    Close  Volume  OpenInt  Symbol  Label  \\\n",
       "Date                                                                           \n",
       "2016-12-21  105.75  105.77  105.130  105.130    9034        0    2452      1   \n",
       "2016-12-22  105.45  105.82  105.155  105.155    4604        0    2452      1   \n",
       "2016-12-23  105.31  105.75  105.310  105.750   14041        0    2452      1   \n",
       "2016-12-27  105.85  105.94  105.651  105.780    3701        0    2452      1   \n",
       "2016-12-28  104.92  104.93  104.730  104.730    3020        0    2452      1   \n",
       "\n",
       "            30_day_moving_average  \n",
       "Date                               \n",
       "2016-12-21             100.559177  \n",
       "2016-12-22             100.722677  \n",
       "2016-12-23             100.831677  \n",
       "2016-12-27             101.069677  \n",
       "2016-12-28             101.279010  "
      ]
     },
     "execution_count": 7,
     "metadata": {},
     "output_type": "execute_result"
    }
   ],
   "source": [
    "data.head()"
   ]
  },
  {
   "cell_type": "code",
   "execution_count": 8,
   "metadata": {},
   "outputs": [
    {
     "data": {
      "text/html": [
       "<div>\n",
       "<style scoped>\n",
       "    .dataframe tbody tr th:only-of-type {\n",
       "        vertical-align: middle;\n",
       "    }\n",
       "\n",
       "    .dataframe tbody tr th {\n",
       "        vertical-align: top;\n",
       "    }\n",
       "\n",
       "    .dataframe thead th {\n",
       "        text-align: right;\n",
       "    }\n",
       "</style>\n",
       "<table border=\"1\" class=\"dataframe\">\n",
       "  <thead>\n",
       "    <tr style=\"text-align: right;\">\n",
       "      <th></th>\n",
       "      <th>Open</th>\n",
       "      <th>High</th>\n",
       "      <th>Low</th>\n",
       "      <th>Close</th>\n",
       "      <th>Volume</th>\n",
       "      <th>OpenInt</th>\n",
       "      <th>Symbol</th>\n",
       "      <th>Label</th>\n",
       "      <th>30_day_moving_average</th>\n",
       "    </tr>\n",
       "    <tr>\n",
       "      <th>Date</th>\n",
       "      <th></th>\n",
       "      <th></th>\n",
       "      <th></th>\n",
       "      <th></th>\n",
       "      <th></th>\n",
       "      <th></th>\n",
       "      <th></th>\n",
       "      <th></th>\n",
       "      <th></th>\n",
       "    </tr>\n",
       "  </thead>\n",
       "  <tbody>\n",
       "    <tr>\n",
       "      <th>2017-11-06</th>\n",
       "      <td>82.847</td>\n",
       "      <td>83.574</td>\n",
       "      <td>82.299</td>\n",
       "      <td>82.887</td>\n",
       "      <td>452189</td>\n",
       "      <td>0</td>\n",
       "      <td>5541</td>\n",
       "      <td>0</td>\n",
       "      <td>78.687333</td>\n",
       "    </tr>\n",
       "    <tr>\n",
       "      <th>2017-11-07</th>\n",
       "      <td>82.887</td>\n",
       "      <td>82.887</td>\n",
       "      <td>82.011</td>\n",
       "      <td>82.140</td>\n",
       "      <td>828976</td>\n",
       "      <td>0</td>\n",
       "      <td>5541</td>\n",
       "      <td>0</td>\n",
       "      <td>78.892800</td>\n",
       "    </tr>\n",
       "    <tr>\n",
       "      <th>2017-11-08</th>\n",
       "      <td>82.160</td>\n",
       "      <td>82.750</td>\n",
       "      <td>81.780</td>\n",
       "      <td>82.190</td>\n",
       "      <td>1230839</td>\n",
       "      <td>0</td>\n",
       "      <td>5541</td>\n",
       "      <td>0</td>\n",
       "      <td>79.104567</td>\n",
       "    </tr>\n",
       "    <tr>\n",
       "      <th>2017-11-09</th>\n",
       "      <td>82.050</td>\n",
       "      <td>82.900</td>\n",
       "      <td>81.970</td>\n",
       "      <td>82.720</td>\n",
       "      <td>597998</td>\n",
       "      <td>0</td>\n",
       "      <td>5541</td>\n",
       "      <td>0</td>\n",
       "      <td>79.335667</td>\n",
       "    </tr>\n",
       "    <tr>\n",
       "      <th>2017-11-10</th>\n",
       "      <td>82.320</td>\n",
       "      <td>83.070</td>\n",
       "      <td>81.520</td>\n",
       "      <td>83.060</td>\n",
       "      <td>374875</td>\n",
       "      <td>0</td>\n",
       "      <td>5541</td>\n",
       "      <td>0</td>\n",
       "      <td>79.549900</td>\n",
       "    </tr>\n",
       "  </tbody>\n",
       "</table>\n",
       "</div>"
      ],
      "text/plain": [
       "              Open    High     Low   Close   Volume  OpenInt  Symbol  Label  \\\n",
       "Date                                                                          \n",
       "2017-11-06  82.847  83.574  82.299  82.887   452189        0    5541      0   \n",
       "2017-11-07  82.887  82.887  82.011  82.140   828976        0    5541      0   \n",
       "2017-11-08  82.160  82.750  81.780  82.190  1230839        0    5541      0   \n",
       "2017-11-09  82.050  82.900  81.970  82.720   597998        0    5541      0   \n",
       "2017-11-10  82.320  83.070  81.520  83.060   374875        0    5541      0   \n",
       "\n",
       "            30_day_moving_average  \n",
       "Date                               \n",
       "2017-11-06              78.687333  \n",
       "2017-11-07              78.892800  \n",
       "2017-11-08              79.104567  \n",
       "2017-11-09              79.335667  \n",
       "2017-11-10              79.549900  "
      ]
     },
     "execution_count": 8,
     "metadata": {},
     "output_type": "execute_result"
    }
   ],
   "source": [
    "data.tail()"
   ]
  },
  {
   "cell_type": "markdown",
   "metadata": {},
   "source": [
    "## Train and Test Models"
   ]
  },
  {
   "cell_type": "code",
   "execution_count": 9,
   "metadata": {
    "papermill": {
     "duration": 0.491383,
     "end_time": "2021-03-22T16:59:28.146260",
     "exception": false,
     "start_time": "2021-03-22T16:59:27.654877",
     "status": "completed"
    },
    "tags": []
   },
   "outputs": [],
   "source": [
    "X = data.drop(columns=[\"Label\", \"Symbol\"])\n",
    "y = data[\"Label\"]"
   ]
  },
  {
   "cell_type": "code",
   "execution_count": 10,
   "metadata": {},
   "outputs": [],
   "source": [
    "X_train, X_test, y_train, y_test = train_test_split(X, y, test_size=0.2)"
   ]
  },
  {
   "cell_type": "markdown",
   "metadata": {
    "tags": []
   },
   "source": [
    "### Logistic Regression"
   ]
  },
  {
   "cell_type": "code",
   "execution_count": 11,
   "metadata": {},
   "outputs": [],
   "source": [
    "from sklearn.linear_model import LogisticRegression"
   ]
  },
  {
   "cell_type": "markdown",
   "metadata": {},
   "source": [
    "#### Training"
   ]
  },
  {
   "cell_type": "code",
   "execution_count": 12,
   "metadata": {
    "papermill": {
     "duration": 0.04566,
     "end_time": "2021-03-22T16:59:27.557309",
     "exception": false,
     "start_time": "2021-03-22T16:59:27.511649",
     "status": "completed"
    },
    "tags": []
   },
   "outputs": [],
   "source": [
    "lr = LogisticRegression(max_iter=1000)\n",
    "scores = cross_val_score(lr, X_train, y_train, scoring=\"accuracy\", cv=5)"
   ]
  },
  {
   "cell_type": "code",
   "execution_count": 13,
   "metadata": {},
   "outputs": [
    {
     "name": "stdout",
     "output_type": "stream",
     "text": [
      "Cross-validation scores: [0.54789502 0.54796387 0.54794708 0.54791121 0.54791834]\n",
      "Average Train Accuracy: 0.5479271052769075\n"
     ]
    }
   ],
   "source": [
    "print(\"Cross-validation scores:\", scores)\n",
    "print(\"Average Train Accuracy:\", scores.mean())"
   ]
  },
  {
   "cell_type": "markdown",
   "metadata": {},
   "source": [
    "#### Testing"
   ]
  },
  {
   "cell_type": "code",
   "execution_count": 14,
   "metadata": {},
   "outputs": [],
   "source": [
    "lr.fit(X_train, y_train)\n",
    "y_pred = lr.predict(X_test)"
   ]
  },
  {
   "cell_type": "code",
   "execution_count": 15,
   "metadata": {},
   "outputs": [
    {
     "name": "stdout",
     "output_type": "stream",
     "text": [
      "Test Accuracy: 0.5481483297554213\n"
     ]
    }
   ],
   "source": [
    "print(\"Test Accuracy:\", accuracy_score(y_test, y_pred))\n",
    "# print(\"Confusion matrix:\\n\", confusion_matrix(y_test, y_pred))\n",
    "# print(\"Classification report:\\n\", classification_report(y_test, y_pred))"
   ]
  }
 ],
 "metadata": {
  "kernelspec": {
   "display_name": "Python 3 (ipykernel)",
   "language": "python",
   "name": "python3"
  },
  "language_info": {
   "codemirror_mode": {
    "name": "ipython",
    "version": 3
   },
   "file_extension": ".py",
   "mimetype": "text/x-python",
   "name": "python",
   "nbconvert_exporter": "python",
   "pygments_lexer": "ipython3",
   "version": "3.10.10"
  },
  "papermill": {
   "default_parameters": {},
   "duration": 14.315211,
   "end_time": "2021-03-22T16:59:33.498906",
   "environment_variables": {},
   "exception": null,
   "input_path": "__notebook__.ipynb",
   "output_path": "__notebook__.ipynb",
   "parameters": {},
   "start_time": "2021-03-22T16:59:19.183695",
   "version": "2.2.2"
  }
 },
 "nbformat": 4,
 "nbformat_minor": 4
}
